{
 "cells": [
  {
   "cell_type": "markdown",
   "metadata": {},
   "source": [
    "# TRAIN PASSENGER DEMAND PREDICTION"
   ]
  },
  {
   "cell_type": "markdown",
   "metadata": {},
   "source": [
    "### Importing the required libriaries"
   ]
  },
  {
   "cell_type": "code",
   "execution_count": 1,
   "metadata": {},
   "outputs": [],
   "source": [
    "import numpy as np\n",
    "import pandas as pd\n",
    "import matplotlib.pyplot as plt\n",
    "from math import sin, cos, sqrt, atan2, radians\n",
    "\n",
    "%matplotlib inline"
   ]
  },
  {
   "cell_type": "markdown",
   "metadata": {},
   "source": [
    "### Loading Data"
   ]
  },
  {
   "cell_type": "code",
   "execution_count": 2,
   "metadata": {},
   "outputs": [],
   "source": [
    "cwd = r\"D:\\Narendra\\Hitachi data Engineer Challenge\\DataSet\"\n",
    "train_data = pd.read_csv(cwd + \"/train.csv\")\n",
    "test_data = pd.read_csv(cwd + \"/test.csv\")\n",
    "columns=train_data.drop(['id_code', 'target'], axis=1).columns\n",
    "tot_data = pd.concat([train_data[columns], test_data[columns]])"
   ]
  },
  {
   "cell_type": "markdown",
   "metadata": {},
   "source": [
    "## Data Cleansing and Feature Engineering "
   ]
  },
  {
   "cell_type": "markdown",
   "metadata": {},
   "source": [
    "### Creating a Datetime column from the data"
   ]
  },
  {
   "cell_type": "code",
   "execution_count": 3,
   "metadata": {},
   "outputs": [],
   "source": [
    "train_data['current_datetime'] = pd.to_datetime(train_data['current_date']+' '+train_data['current_time'])\n",
    "train_data['datetime'] = pd.to_datetime(train_data['current_date']+' '+train_data['current_time'])\n",
    "test_data['current_datetime'] = pd.to_datetime(test_data['current_date']+' '+test_data['current_time'])\n",
    "test_data['datetime'] = pd.to_datetime(test_data['current_date']+' '+test_data['current_time'])\n",
    "train_columns = train_data.columns"
   ]
  },
  {
   "cell_type": "markdown",
   "metadata": {},
   "source": [
    "## Creating the Data Model with Station, Country, date Dimensions and Train details as Fact "
   ]
  },
  {
   "cell_type": "markdown",
   "metadata": {},
   "source": [
    "### Station Dimension"
   ]
  },
  {
   "cell_type": "code",
   "execution_count": 4,
   "metadata": {},
   "outputs": [],
   "source": [
    "source_station = tot_data[['source_name', 'country_code_source', 'longitude_source', 'latitude_source', 'mean_halt_times_source']]\n",
    "destination_station = tot_data[['destination_name', 'country_code_destination', 'longitude_destination', 'latitude_destination', 'mean_halt_times_destination']]\n",
    "source_station.columns=['name', 'country_code', 'latitude', 'longitude', 'mean_halt_times']\n",
    "destination_station.columns=['name', 'country_code', 'latitude', 'longitude', 'mean_halt_times']"
   ]
  },
  {
   "cell_type": "code",
   "execution_count": 5,
   "metadata": {},
   "outputs": [
    {
     "data": {
      "text/html": [
       "<div>\n",
       "<style scoped>\n",
       "    .dataframe tbody tr th:only-of-type {\n",
       "        vertical-align: middle;\n",
       "    }\n",
       "\n",
       "    .dataframe tbody tr th {\n",
       "        vertical-align: top;\n",
       "    }\n",
       "\n",
       "    .dataframe thead th {\n",
       "        text-align: right;\n",
       "    }\n",
       "</style>\n",
       "<table border=\"1\" class=\"dataframe\">\n",
       "  <thead>\n",
       "    <tr style=\"text-align: right;\">\n",
       "      <th></th>\n",
       "      <th>name</th>\n",
       "      <th>country_code</th>\n",
       "      <th>latitude</th>\n",
       "      <th>longitude</th>\n",
       "      <th>mean_halt_times</th>\n",
       "      <th>id</th>\n",
       "    </tr>\n",
       "  </thead>\n",
       "  <tbody>\n",
       "    <tr>\n",
       "      <th>0</th>\n",
       "      <td>station$0</td>\n",
       "      <td>logbp</td>\n",
       "      <td>-0.126061</td>\n",
       "      <td>51.531040</td>\n",
       "      <td>0.000000</td>\n",
       "      <td>0</td>\n",
       "    </tr>\n",
       "    <tr>\n",
       "      <th>1</th>\n",
       "      <td>station$1</td>\n",
       "      <td>logbp</td>\n",
       "      <td>-0.126061</td>\n",
       "      <td>51.531040</td>\n",
       "      <td>0.000000</td>\n",
       "      <td>1</td>\n",
       "    </tr>\n",
       "    <tr>\n",
       "      <th>2</th>\n",
       "      <td>station$2</td>\n",
       "      <td>logbp</td>\n",
       "      <td>-0.126061</td>\n",
       "      <td>51.531040</td>\n",
       "      <td>0.000000</td>\n",
       "      <td>2</td>\n",
       "    </tr>\n",
       "    <tr>\n",
       "      <th>3</th>\n",
       "      <td>station$3</td>\n",
       "      <td>logbp</td>\n",
       "      <td>0.321070</td>\n",
       "      <td>51.443040</td>\n",
       "      <td>0.000000</td>\n",
       "      <td>3</td>\n",
       "    </tr>\n",
       "    <tr>\n",
       "      <th>4</th>\n",
       "      <td>station$11</td>\n",
       "      <td>zxdec</td>\n",
       "      <td>6.958823</td>\n",
       "      <td>50.942721</td>\n",
       "      <td>12.540462</td>\n",
       "      <td>11</td>\n",
       "    </tr>\n",
       "    <tr>\n",
       "      <th>...</th>\n",
       "      <td>...</td>\n",
       "      <td>...</td>\n",
       "      <td>...</td>\n",
       "      <td>...</td>\n",
       "      <td>...</td>\n",
       "      <td>...</td>\n",
       "    </tr>\n",
       "    <tr>\n",
       "      <th>304</th>\n",
       "      <td>station$640</td>\n",
       "      <td>whber</td>\n",
       "      <td>2.999286</td>\n",
       "      <td>50.772072</td>\n",
       "      <td>22.445087</td>\n",
       "      <td>640</td>\n",
       "    </tr>\n",
       "    <tr>\n",
       "      <th>305</th>\n",
       "      <td>station$642</td>\n",
       "      <td>whber</td>\n",
       "      <td>2.736343</td>\n",
       "      <td>50.854449</td>\n",
       "      <td>22.445087</td>\n",
       "      <td>642</td>\n",
       "    </tr>\n",
       "    <tr>\n",
       "      <th>306</th>\n",
       "      <td>station$643</td>\n",
       "      <td>whber</td>\n",
       "      <td>3.130412</td>\n",
       "      <td>50.949025</td>\n",
       "      <td>35.274566</td>\n",
       "      <td>643</td>\n",
       "    </tr>\n",
       "    <tr>\n",
       "      <th>307</th>\n",
       "      <td>station$644</td>\n",
       "      <td>whber</td>\n",
       "      <td>3.212088</td>\n",
       "      <td>50.921149</td>\n",
       "      <td>35.274566</td>\n",
       "      <td>644</td>\n",
       "    </tr>\n",
       "    <tr>\n",
       "      <th>308</th>\n",
       "      <td>station$645</td>\n",
       "      <td>whber</td>\n",
       "      <td>3.255416</td>\n",
       "      <td>50.914326</td>\n",
       "      <td>33.202312</td>\n",
       "      <td>645</td>\n",
       "    </tr>\n",
       "  </tbody>\n",
       "</table>\n",
       "<p>309 rows × 6 columns</p>\n",
       "</div>"
      ],
      "text/plain": [
       "            name country_code  latitude  longitude  mean_halt_times   id\n",
       "0      station$0        logbp -0.126061  51.531040         0.000000    0\n",
       "1      station$1        logbp -0.126061  51.531040         0.000000    1\n",
       "2      station$2        logbp -0.126061  51.531040         0.000000    2\n",
       "3      station$3        logbp  0.321070  51.443040         0.000000    3\n",
       "4     station$11        zxdec  6.958823  50.942721        12.540462   11\n",
       "..           ...          ...       ...        ...              ...  ...\n",
       "304  station$640        whber  2.999286  50.772072        22.445087  640\n",
       "305  station$642        whber  2.736343  50.854449        22.445087  642\n",
       "306  station$643        whber  3.130412  50.949025        35.274566  643\n",
       "307  station$644        whber  3.212088  50.921149        35.274566  644\n",
       "308  station$645        whber  3.255416  50.914326        33.202312  645\n",
       "\n",
       "[309 rows x 6 columns]"
      ]
     },
     "execution_count": 5,
     "metadata": {},
     "output_type": "execute_result"
    }
   ],
   "source": [
    "station_detail = pd.concat([source_station, destination_station])\n",
    "station_detail['id'] = station_detail['name'].apply(lambda x: int(x[8:]))\n",
    "station_detail = station_detail.drop_duplicates()\n",
    "station_detail.sort_values('id', inplace=True)\n",
    "station_detail.reset_index(drop=True, inplace=True)\n",
    "station_detail = station_detail.fillna(method = 'bfill') #Filling NaN values with nearby sation values\n",
    "station_detail"
   ]
  },
  {
   "cell_type": "code",
   "execution_count": 6,
   "metadata": {},
   "outputs": [],
   "source": [
    "station_dict = {}\n",
    "for x,y in zip(station_detail['name'], station_detail['id']):\n",
    "    station_dict[x] = y"
   ]
  },
  {
   "cell_type": "markdown",
   "metadata": {},
   "source": [
    "### Country Dimension "
   ]
  },
  {
   "cell_type": "code",
   "execution_count": 7,
   "metadata": {},
   "outputs": [
    {
     "data": {
      "text/html": [
       "<div>\n",
       "<style scoped>\n",
       "    .dataframe tbody tr th:only-of-type {\n",
       "        vertical-align: middle;\n",
       "    }\n",
       "\n",
       "    .dataframe tbody tr th {\n",
       "        vertical-align: top;\n",
       "    }\n",
       "\n",
       "    .dataframe thead th {\n",
       "        text-align: right;\n",
       "    }\n",
       "</style>\n",
       "<table border=\"1\" class=\"dataframe\">\n",
       "  <thead>\n",
       "    <tr style=\"text-align: right;\">\n",
       "      <th></th>\n",
       "      <th>id</th>\n",
       "      <th>code</th>\n",
       "    </tr>\n",
       "  </thead>\n",
       "  <tbody>\n",
       "    <tr>\n",
       "      <th>0</th>\n",
       "      <td>0</td>\n",
       "      <td>aqfre</td>\n",
       "    </tr>\n",
       "    <tr>\n",
       "      <th>1</th>\n",
       "      <td>1</td>\n",
       "      <td>logbp</td>\n",
       "    </tr>\n",
       "    <tr>\n",
       "      <th>2</th>\n",
       "      <td>2</td>\n",
       "      <td>qwnll</td>\n",
       "    </tr>\n",
       "    <tr>\n",
       "      <th>3</th>\n",
       "      <td>3</td>\n",
       "      <td>whber</td>\n",
       "    </tr>\n",
       "    <tr>\n",
       "      <th>4</th>\n",
       "      <td>4</td>\n",
       "      <td>wsluu</td>\n",
       "    </tr>\n",
       "    <tr>\n",
       "      <th>5</th>\n",
       "      <td>5</td>\n",
       "      <td>zxdec</td>\n",
       "    </tr>\n",
       "  </tbody>\n",
       "</table>\n",
       "</div>"
      ],
      "text/plain": [
       "   id   code\n",
       "0   0  aqfre\n",
       "1   1  logbp\n",
       "2   2  qwnll\n",
       "3   3  whber\n",
       "4   4  wsluu\n",
       "5   5  zxdec"
      ]
     },
     "execution_count": 7,
     "metadata": {},
     "output_type": "execute_result"
    }
   ],
   "source": [
    "country_code = station_detail['country_code'].sort_values()\n",
    "country_code = country_code.drop_duplicates()\n",
    "country_code.reset_index(drop=True, inplace=True)\n",
    "country_code = country_code.reset_index(drop=False)\n",
    "country_code.columns=['id', 'code']\n",
    "country_code"
   ]
  },
  {
   "cell_type": "code",
   "execution_count": 8,
   "metadata": {},
   "outputs": [],
   "source": [
    "country_dict={}\n",
    "for x,y in zip(country_code['code'], country_code['id']):\n",
    "    country_dict[x]=y"
   ]
  },
  {
   "cell_type": "markdown",
   "metadata": {},
   "source": [
    "### Train details Fact "
   ]
  },
  {
   "cell_type": "code",
   "execution_count": 9,
   "metadata": {},
   "outputs": [
    {
     "data": {
      "text/html": [
       "<div>\n",
       "<style scoped>\n",
       "    .dataframe tbody tr th:only-of-type {\n",
       "        vertical-align: middle;\n",
       "    }\n",
       "\n",
       "    .dataframe tbody tr th {\n",
       "        vertical-align: top;\n",
       "    }\n",
       "\n",
       "    .dataframe thead th {\n",
       "        text-align: right;\n",
       "    }\n",
       "</style>\n",
       "<table border=\"1\" class=\"dataframe\">\n",
       "  <thead>\n",
       "    <tr style=\"text-align: right;\">\n",
       "      <th></th>\n",
       "      <th>train_id</th>\n",
       "      <th>id_code</th>\n",
       "      <th>datetime</th>\n",
       "      <th>train_name</th>\n",
       "      <th>source</th>\n",
       "      <th>destination</th>\n",
       "      <th>passenger_demand</th>\n",
       "    </tr>\n",
       "  </thead>\n",
       "  <tbody>\n",
       "    <tr>\n",
       "      <th>0</th>\n",
       "      <td>0</td>\n",
       "      <td>isfywypmkqqhyft</td>\n",
       "      <td>2016-07-27 20:05:51</td>\n",
       "      <td>ICZVZS</td>\n",
       "      <td>station$147</td>\n",
       "      <td>station$1</td>\n",
       "      <td>high</td>\n",
       "    </tr>\n",
       "    <tr>\n",
       "      <th>1</th>\n",
       "      <td>1</td>\n",
       "      <td>mqsfxyvuqpbwomk</td>\n",
       "      <td>2016-07-27 20:06:11</td>\n",
       "      <td>ICZVZS</td>\n",
       "      <td>station$147</td>\n",
       "      <td>station$1</td>\n",
       "      <td>high</td>\n",
       "    </tr>\n",
       "    <tr>\n",
       "      <th>2</th>\n",
       "      <td>2</td>\n",
       "      <td>alspwwtbdvqsgby</td>\n",
       "      <td>2016-07-27 20:08:57</td>\n",
       "      <td>ICZVZS</td>\n",
       "      <td>station$147</td>\n",
       "      <td>station$1</td>\n",
       "      <td>high</td>\n",
       "    </tr>\n",
       "    <tr>\n",
       "      <th>3</th>\n",
       "      <td>3</td>\n",
       "      <td>szitxhhqduyrqpg</td>\n",
       "      <td>2016-07-27 20:09:08</td>\n",
       "      <td>ICZVZS</td>\n",
       "      <td>station$147</td>\n",
       "      <td>station$1</td>\n",
       "      <td>high</td>\n",
       "    </tr>\n",
       "    <tr>\n",
       "      <th>4</th>\n",
       "      <td>4</td>\n",
       "      <td>krisdqzczivvwcp</td>\n",
       "      <td>2016-07-27 20:11:01</td>\n",
       "      <td>ICZVZS</td>\n",
       "      <td>station$147</td>\n",
       "      <td>station$1</td>\n",
       "      <td>high</td>\n",
       "    </tr>\n",
       "    <tr>\n",
       "      <th>...</th>\n",
       "      <td>...</td>\n",
       "      <td>...</td>\n",
       "      <td>...</td>\n",
       "      <td>...</td>\n",
       "      <td>...</td>\n",
       "      <td>...</td>\n",
       "      <td>...</td>\n",
       "    </tr>\n",
       "    <tr>\n",
       "      <th>1279</th>\n",
       "      <td>1279</td>\n",
       "      <td>gfnxmbjcdyjdbeo</td>\n",
       "      <td>2016-10-05 15:12:10</td>\n",
       "      <td>ICZVZY</td>\n",
       "      <td>station$130</td>\n",
       "      <td>station$279</td>\n",
       "      <td>medium</td>\n",
       "    </tr>\n",
       "    <tr>\n",
       "      <th>1280</th>\n",
       "      <td>1280</td>\n",
       "      <td>mcfgyjeuatomuub</td>\n",
       "      <td>2016-10-05 18:14:27</td>\n",
       "      <td>ICWZZV</td>\n",
       "      <td>station$544</td>\n",
       "      <td>station$266</td>\n",
       "      <td>medium</td>\n",
       "    </tr>\n",
       "    <tr>\n",
       "      <th>1281</th>\n",
       "      <td>1281</td>\n",
       "      <td>rwhslfljqeapqhw</td>\n",
       "      <td>2016-10-05 18:23:44</td>\n",
       "      <td>SZZTSS</td>\n",
       "      <td>station$147</td>\n",
       "      <td>station$159</td>\n",
       "      <td>high</td>\n",
       "    </tr>\n",
       "    <tr>\n",
       "      <th>1282</th>\n",
       "      <td>1282</td>\n",
       "      <td>xcseqqecaatslst</td>\n",
       "      <td>2016-10-05 18:27:34</td>\n",
       "      <td>ICYAXR</td>\n",
       "      <td>station$147</td>\n",
       "      <td>station$422</td>\n",
       "      <td>low</td>\n",
       "    </tr>\n",
       "    <tr>\n",
       "      <th>1283</th>\n",
       "      <td>1283</td>\n",
       "      <td>hfhwirltuffenfr</td>\n",
       "      <td>2016-10-05 21:30:31</td>\n",
       "      <td>ICWYYA</td>\n",
       "      <td>station$200</td>\n",
       "      <td>station$185</td>\n",
       "      <td>high</td>\n",
       "    </tr>\n",
       "  </tbody>\n",
       "</table>\n",
       "<p>1284 rows × 7 columns</p>\n",
       "</div>"
      ],
      "text/plain": [
       "      train_id          id_code            datetime train_name       source  \\\n",
       "0            0  isfywypmkqqhyft 2016-07-27 20:05:51     ICZVZS  station$147   \n",
       "1            1  mqsfxyvuqpbwomk 2016-07-27 20:06:11     ICZVZS  station$147   \n",
       "2            2  alspwwtbdvqsgby 2016-07-27 20:08:57     ICZVZS  station$147   \n",
       "3            3  szitxhhqduyrqpg 2016-07-27 20:09:08     ICZVZS  station$147   \n",
       "4            4  krisdqzczivvwcp 2016-07-27 20:11:01     ICZVZS  station$147   \n",
       "...        ...              ...                 ...        ...          ...   \n",
       "1279      1279  gfnxmbjcdyjdbeo 2016-10-05 15:12:10     ICZVZY  station$130   \n",
       "1280      1280  mcfgyjeuatomuub 2016-10-05 18:14:27     ICWZZV  station$544   \n",
       "1281      1281  rwhslfljqeapqhw 2016-10-05 18:23:44     SZZTSS  station$147   \n",
       "1282      1282  xcseqqecaatslst 2016-10-05 18:27:34     ICYAXR  station$147   \n",
       "1283      1283  hfhwirltuffenfr 2016-10-05 21:30:31     ICWYYA  station$200   \n",
       "\n",
       "      destination passenger_demand  \n",
       "0       station$1             high  \n",
       "1       station$1             high  \n",
       "2       station$1             high  \n",
       "3       station$1             high  \n",
       "4       station$1             high  \n",
       "...           ...              ...  \n",
       "1279  station$279           medium  \n",
       "1280  station$266           medium  \n",
       "1281  station$159             high  \n",
       "1282  station$422              low  \n",
       "1283  station$185             high  \n",
       "\n",
       "[1284 rows x 7 columns]"
      ]
     },
     "execution_count": 9,
     "metadata": {},
     "output_type": "execute_result"
    }
   ],
   "source": [
    "train_detail = train_data.loc[:,['id_code', 'current_datetime', 'train_name', 'source_name', 'destination_name', 'target']]\n",
    "train_detail = train_detail.drop_duplicates()\n",
    "train_detail.sort_values('current_datetime', inplace=True)\n",
    "train_detail.reset_index(drop=True, inplace=True)\n",
    "train_detail.reset_index(inplace=True)\n",
    "train_detail.rename(columns={'current_datetime':'datetime', 'index':'train_id', 'target':'passenger_demand', \n",
    "                             'source_name':'source', 'destination_name': 'destination'}, inplace=True)\n",
    "train_detail"
   ]
  },
  {
   "cell_type": "code",
   "execution_count": 10,
   "metadata": {},
   "outputs": [],
   "source": [
    "train_dict = {}\n",
    "for x,y in zip(train_detail['train_name'], train_detail['train_id']):\n",
    "    train_dict[x] = y"
   ]
  },
  {
   "cell_type": "markdown",
   "metadata": {},
   "source": [
    "### Datetime Dimension "
   ]
  },
  {
   "cell_type": "code",
   "execution_count": 11,
   "metadata": {},
   "outputs": [],
   "source": [
    "datetime_detail = pd.DataFrame(pd.date_range('2016-06-01', '2016-11-30', freq='s'), columns=['datetime'])\n",
    "datetime_detail['datetime'] = pd.to_datetime(datetime_detail['datetime'])\n",
    "datetime_detail['day'] = datetime_detail['datetime'].dt.weekday.astype(int)\n",
    "datetime_detail['is_weekend']=0\n",
    "datetime_detail.loc[datetime_detail['day']>4, 'is_weekend']=1\n",
    "datetime_detail['hours'] = datetime_detail['datetime'].dt.hour.astype(int)\n",
    "datetime_detail['minutes'] = datetime_detail['datetime'].dt.minute.astype(int)"
   ]
  },
  {
   "cell_type": "code",
   "execution_count": 12,
   "metadata": {},
   "outputs": [],
   "source": [
    "def get_distance(lat1, lon1, lat2, lon2):\n",
    "    # approximate radius of earth in km\n",
    "    R = 6373.0\n",
    "\n",
    "    lat1 = np.radians(lat1)\n",
    "    lon1 = np.radians(lon1)\n",
    "    lat2 = np.radians(lat2)\n",
    "    lon2 = np.radians(lon2)\n",
    "\n",
    "    dlon = lon2 - lon1\n",
    "    dlat = lat2 - lat1\n",
    "\n",
    "    a = np.sin(dlat / 2)**2 + np.cos(lat1) * np.cos(lat2) * np.sin(dlon / 2)**2\n",
    "    c = 2 * np.arctan2(np.sqrt(a), np.sqrt(1 - a))\n",
    "\n",
    "    distance = R * c\n",
    "    return distance"
   ]
  },
  {
   "cell_type": "code",
   "execution_count": 13,
   "metadata": {
    "scrolled": true
   },
   "outputs": [
    {
     "data": {
      "text/plain": [
       "Index(['country_code_source', 'longitude_source', 'latitude_source',\n",
       "       'mean_halt_times_source', 'country_code_destination',\n",
       "       'longitude_destination', 'latitude_destination',\n",
       "       'mean_halt_times_destination'],\n",
       "      dtype='object')"
      ]
     },
     "execution_count": 13,
     "metadata": {},
     "output_type": "execute_result"
    }
   ],
   "source": [
    "columns_with_nulls = train_data.columns[train_data.isna().sum()>0]\n",
    "columns_with_nulls"
   ]
  },
  {
   "cell_type": "markdown",
   "metadata": {},
   "source": [
    "### Updating the missing values in train_data and calculating the Distance between source and destination stations "
   ]
  },
  {
   "cell_type": "code",
   "execution_count": 14,
   "metadata": {},
   "outputs": [],
   "source": [
    "train_data = train_data.merge(station_detail, left_on='source_name', right_on='name', how='left')\n",
    "\n",
    "train_data = train_data.merge(station_detail, left_on='destination_name', right_on='name', how='left', suffixes=('_source', '_destination'))\n",
    "\n",
    "train_data = train_data.dropna(axis=1)[train_columns]\n",
    "train_data.set_index('current_datetime', inplace=True)\n",
    "\n",
    "train_data['distance_between_stations'] = get_distance(train_data['latitude_source'].values, train_data['longitude_source'].values, \n",
    "                                                       train_data['latitude_destination'].values, train_data['longitude_destination'].values)"
   ]
  },
  {
   "cell_type": "code",
   "execution_count": 15,
   "metadata": {},
   "outputs": [
    {
     "data": {
      "text/plain": [
       "id_code                        0\n",
       "current_date                   0\n",
       "current_time                   0\n",
       "source_name                    0\n",
       "destination_name               0\n",
       "train_name                     0\n",
       "target                         0\n",
       "country_code_source            0\n",
       "longitude_source               0\n",
       "latitude_source                0\n",
       "mean_halt_times_source         0\n",
       "country_code_destination       0\n",
       "longitude_destination          0\n",
       "latitude_destination           0\n",
       "mean_halt_times_destination    0\n",
       "current_year                   0\n",
       "current_week                   0\n",
       "current_day                    0\n",
       "is_weekend                     0\n",
       "datetime                       0\n",
       "distance_between_stations      0\n",
       "dtype: int64"
      ]
     },
     "execution_count": 15,
     "metadata": {},
     "output_type": "execute_result"
    }
   ],
   "source": [
    "# checking null values\n",
    "train_data.isna().sum()"
   ]
  },
  {
   "cell_type": "code",
   "execution_count": 16,
   "metadata": {},
   "outputs": [],
   "source": [
    "#Separating the target values for analysis\n",
    "train_data['passenger_demand_high'] = np.where(train_data['target']=='high', 1, 0)\n",
    "train_data['passenger_demand_medium'] = np.where(train_data['target']=='medium', 1, 0)\n",
    "train_data['passenger_demand_low'] = np.where(train_data['target']=='low', 1, 0)"
   ]
  },
  {
   "cell_type": "markdown",
   "metadata": {},
   "source": [
    "### Extending the datetime features"
   ]
  },
  {
   "cell_type": "code",
   "execution_count": 17,
   "metadata": {},
   "outputs": [],
   "source": [
    "train_data['hours'] = train_data['datetime'].dt.hour.astype(int)\n",
    "train_data['minutes'] = train_data['datetime'].dt.minute.astype(int)\n",
    "train_data['sec'] = train_data['datetime'].dt.second.astype(int)\n",
    "train_data['is_weekend'] = (train_data['is_weekend']*1).astype(int)\n",
    "train_data['current_day'] = train_data['datetime'].dt.weekday.astype(int)"
   ]
  },
  {
   "cell_type": "markdown",
   "metadata": {},
   "source": [
    "### Labeling the Target into numeric values"
   ]
  },
  {
   "cell_type": "code",
   "execution_count": 18,
   "metadata": {},
   "outputs": [],
   "source": [
    "train_data['target'] = np.where(train_data['target']=='low', 0, np.where(train_data['target']=='medium', 1, 2))"
   ]
  },
  {
   "cell_type": "markdown",
   "metadata": {},
   "source": [
    "### Plotting trains with high, medium and low separately "
   ]
  },
  {
   "cell_type": "code",
   "execution_count": 19,
   "metadata": {
    "scrolled": false
   },
   "outputs": [
    {
     "name": "stderr",
     "output_type": "stream",
     "text": [
      "D:\\Anaconda3\\lib\\site-packages\\pandas\\core\\ops\\__init__.py:1115: FutureWarning: elementwise comparison failed; returning scalar instead, but in the future will perform elementwise comparison\n",
      "  result = method(y)\n",
      "D:\\Anaconda3\\lib\\site-packages\\pandas\\plotting\\_matplotlib\\converter.py:103: FutureWarning: Using an implicitly registered datetime converter for a matplotlib plotting method. The converter was registered by pandas on import. Future versions of pandas will require you to explicitly register matplotlib converters.\n",
      "\n",
      "To register the converters:\n",
      "\t>>> from pandas.plotting import register_matplotlib_converters\n",
      "\t>>> register_matplotlib_converters()\n",
      "  warnings.warn(msg, FutureWarning)\n"
     ]
    },
    {
     "data": {
      "text/plain": [
       "<matplotlib.collections.PathCollection at 0x281a6d8bc88>"
      ]
     },
     "execution_count": 19,
     "metadata": {},
     "output_type": "execute_result"
    },
    {
     "data": {
      "image/png": "[encoded data removed]",
      "text/plain": [
       "<Figure size 1440x360 with 1 Axes>"
      ]
     },
     "metadata": {
      "needs_background": "light"
     },
     "output_type": "display_data"
    },
    {
     "data": {
      "image/png": "[encoded data removed]",
      "text/plain": [
       "<Figure size 1440x360 with 1 Axes>"
      ]
     },
     "metadata": {
      "needs_background": "light"
     },
     "output_type": "display_data"
    },
    {
     "data": {
      "image/png": "[encoded data removed]",
      "text/plain": [
       "<Figure size 1440x360 with 1 Axes>"
      ]
     },
     "metadata": {
      "needs_background": "light"
     },
     "output_type": "display_data"
    }
   ],
   "source": [
    "x_values = train_data.loc[train_data['target']=='high', 'datetime']\n",
    "y_values = train_data.loc[train_data['target']=='high', 'id_code']\n",
    "plt.figure(figsize=(20,5))\n",
    "plt.scatter(x_values, y_values)\n",
    "x_values = train_data.loc[train_data['target']=='medium', 'datetime']\n",
    "y_values = train_data.loc[train_data['target']=='medium', 'id_code']\n",
    "plt.figure(figsize=(20,5))\n",
    "plt.scatter(x_values, y_values)\n",
    "x_values = train_data.loc[train_data['target']=='low', 'datetime']\n",
    "y_values = train_data.loc[train_data['target']=='low', 'id_code']\n",
    "plt.figure(figsize=(20,5))\n",
    "plt.scatter(x_values, y_values)"
   ]
  },
  {
   "cell_type": "markdown",
   "metadata": {},
   "source": [
    "### Plotting the data to see the trends with respect to time(it is clear that the relationship is varying)"
   ]
  },
  {
   "cell_type": "code",
   "execution_count": 20,
   "metadata": {
    "scrolled": true
   },
   "outputs": [
    {
     "data": {
      "text/plain": [
       "<matplotlib.axes._subplots.AxesSubplot at 0x281a6e0ada0>"
      ]
     },
     "execution_count": 20,
     "metadata": {},
     "output_type": "execute_result"
    },
    {
     "data": {
      "image/png": "[encoded data removed]",
      "text/plain": [
       "<Figure size 1440x360 with 1 Axes>"
      ]
     },
     "metadata": {
      "needs_background": "light"
     },
     "output_type": "display_data"
    }
   ],
   "source": [
    "train_data.groupby('datetime')[['passenger_demand_high', 'passenger_demand_medium', 'passenger_demand_low']].mean().plot(figsize=(20,5))"
   ]
  },
  {
   "cell_type": "markdown",
   "metadata": {},
   "source": [
    "### Calculating the probabilities of each train to be high, medium and low in demand"
   ]
  },
  {
   "cell_type": "code",
   "execution_count": 21,
   "metadata": {
    "scrolled": true
   },
   "outputs": [],
   "source": [
    "trains_df = train_data.groupby(['train_name'])['passenger_demand_high', 'passenger_demand_medium', 'passenger_demand_low'].mean()\n",
    "trains_df.columns = ['train_high_prob', 'train_medium_prob', 'train_low_prob']"
   ]
  },
  {
   "cell_type": "markdown",
   "metadata": {},
   "source": [
    "### Adding the train probabilities into training data"
   ]
  },
  {
   "cell_type": "code",
   "execution_count": 22,
   "metadata": {},
   "outputs": [],
   "source": [
    "trains_df.reset_index(inplace=True)\n",
    "train_data = train_data.merge(trains_df, left_on='train_name', right_on = 'train_name', how='left')"
   ]
  },
  {
   "cell_type": "markdown",
   "metadata": {},
   "source": [
    "### Calculating the probabilities of each source and destination station to be high, medium and low in demand"
   ]
  },
  {
   "cell_type": "code",
   "execution_count": 23,
   "metadata": {},
   "outputs": [],
   "source": [
    "stations_df = train_data.groupby(['source_name', 'destination_name'])['passenger_demand_high', 'passenger_demand_medium', 'passenger_demand_low'].mean()\n",
    "stations_df.columns = ['station_high_prob', 'station_medium_prob', 'station_low_prob']"
   ]
  },
  {
   "cell_type": "markdown",
   "metadata": {},
   "source": [
    "### Adding the station probability data into training data "
   ]
  },
  {
   "cell_type": "code",
   "execution_count": 24,
   "metadata": {},
   "outputs": [],
   "source": [
    "stations_df.reset_index(inplace=True)\n",
    "train_data = train_data.merge(stations_df, left_on=['source_name', 'destination_name'], right_on = ['source_name', 'destination_name'], how='left')"
   ]
  },
  {
   "cell_type": "markdown",
   "metadata": {},
   "source": [
    "### Calculating the probabilities of each day to be high, medium and low in demand"
   ]
  },
  {
   "cell_type": "code",
   "execution_count": 25,
   "metadata": {
    "scrolled": true
   },
   "outputs": [],
   "source": [
    "days_df = train_data.groupby(['current_day'])['passenger_demand_high', 'passenger_demand_medium', 'passenger_demand_low'].mean()\n",
    "days_df.columns = ['day_high_prob', 'day_medium_prob', 'day_low_prob']"
   ]
  },
  {
   "cell_type": "markdown",
   "metadata": {},
   "source": [
    "### Adding the day probability data into training data "
   ]
  },
  {
   "cell_type": "code",
   "execution_count": 26,
   "metadata": {
    "scrolled": false
   },
   "outputs": [],
   "source": [
    "days_df.reset_index(inplace=True)\n",
    "train_data = train_data.merge(days_df, left_on='current_day', right_on = 'current_day', how='left')"
   ]
  },
  {
   "cell_type": "markdown",
   "metadata": {},
   "source": [
    "### Calculating the probabilities of each hour to be high, medium and low in demand"
   ]
  },
  {
   "cell_type": "code",
   "execution_count": 27,
   "metadata": {
    "scrolled": false
   },
   "outputs": [],
   "source": [
    "hours_df = train_data.groupby(['hours'])['passenger_demand_high', 'passenger_demand_medium', 'passenger_demand_low'].mean()\n",
    "hours_df.columns = ['hour_high_prob', 'hour_medium_prob', 'hour_low_prob']"
   ]
  },
  {
   "cell_type": "markdown",
   "metadata": {},
   "source": [
    "### Adding the hour probability data into training data "
   ]
  },
  {
   "cell_type": "code",
   "execution_count": 28,
   "metadata": {
    "scrolled": false
   },
   "outputs": [],
   "source": [
    "hours_df.reset_index(inplace=True)\n",
    "train_data = train_data.merge(hours_df, left_on='hours', right_on = 'hours', how='left')"
   ]
  },
  {
   "cell_type": "markdown",
   "metadata": {},
   "source": [
    "### Analysing the trends in source and destination country"
   ]
  },
  {
   "cell_type": "code",
   "execution_count": 29,
   "metadata": {
    "scrolled": false
   },
   "outputs": [
    {
     "data": {
      "text/plain": [
       "<matplotlib.axes._subplots.AxesSubplot at 0x281a6dce390>"
      ]
     },
     "execution_count": 29,
     "metadata": {},
     "output_type": "execute_result"
    },
    {
     "data": {
      "image/png": "[encoded data removed]",
      "text/plain": [
       "<Figure size 1440x360 with 1 Axes>"
      ]
     },
     "metadata": {
      "needs_background": "light"
     },
     "output_type": "display_data"
    }
   ],
   "source": [
    "train_data.groupby(['country_code_source', 'country_code_destination' \n",
    "                   ])['passenger_demand_high', 'passenger_demand_medium', 'passenger_demand_low'].mean().plot.bar(figsize=(20, 5))"
   ]
  },
  {
   "cell_type": "markdown",
   "metadata": {},
   "source": [
    "### Calculating the probabilities of each souce and destination country to be high, medium and low in demand"
   ]
  },
  {
   "cell_type": "code",
   "execution_count": 30,
   "metadata": {},
   "outputs": [],
   "source": [
    "countries_df = train_data.groupby(['country_code_source', 'country_code_destination' \n",
    "                   ])['passenger_demand_high', 'passenger_demand_medium', 'passenger_demand_low'].mean()\n",
    "countries_df.columns = ['country_high_prob', 'country_medium_prob', 'country_low_prob']"
   ]
  },
  {
   "cell_type": "markdown",
   "metadata": {},
   "source": [
    "### Adding the Country probability data into training data "
   ]
  },
  {
   "cell_type": "code",
   "execution_count": 31,
   "metadata": {
    "scrolled": true
   },
   "outputs": [],
   "source": [
    "countries_df.reset_index(inplace=True)\n",
    "train_data = train_data.merge(countries_df, left_on=['country_code_source', 'country_code_destination'], right_on = ['country_code_source', 'country_code_destination'], how='left')"
   ]
  },
  {
   "cell_type": "markdown",
   "metadata": {},
   "source": [
    "### Transformong and Adding extra features to test data"
   ]
  },
  {
   "cell_type": "code",
   "execution_count": 32,
   "metadata": {},
   "outputs": [],
   "source": [
    "test_data['current_day'] = test_data['datetime'].dt.weekday.astype(int)\n",
    "test_data['hours'] = test_data['datetime'].dt.hour.astype(int)\n",
    "test_data['minutes'] = test_data['datetime'].dt.minute.astype(int)\n",
    "test_data['sec'] = test_data['datetime'].dt.second.astype(int)\n",
    "test_data['is_weekend'] = (test_data['is_weekend']*1).astype(int)\n",
    "test_data['distance_between_stations'] = get_distance(test_data['latitude_source'].values, test_data['longitude_source'].values, \n",
    "                                                       test_data['latitude_destination'].values, test_data['longitude_destination'].values)"
   ]
  },
  {
   "cell_type": "code",
   "execution_count": 33,
   "metadata": {},
   "outputs": [],
   "source": [
    "test_data = test_data.merge(trains_df, left_on='train_name', right_on='train_name', how='left')\n",
    "test_data = test_data.merge(stations_df, left_on=['source_name', 'destination_name'], right_on=['source_name', 'destination_name'], how='left')\n",
    "test_data = test_data.merge(days_df, left_on='current_day', right_on = 'current_day', how='left')\n",
    "test_data = test_data.merge(hours_df, left_on='hours', right_on = 'hours', how='left')\n",
    "test_data = test_data.merge(countries_df, left_on=['country_code_source', 'country_code_destination'], right_on = ['country_code_source', 'country_code_destination'], how='left')"
   ]
  },
  {
   "cell_type": "markdown",
   "metadata": {},
   "source": [
    "### Updating the missing probabilities in testing data with default probability (1/3) "
   ]
  },
  {
   "cell_type": "code",
   "execution_count": 34,
   "metadata": {},
   "outputs": [],
   "source": [
    "test_na_cols = test_data.columns[test_data.isna().sum()>0]\n",
    "test_data[test_na_cols] = test_data[test_na_cols].fillna(1/3)"
   ]
  },
  {
   "cell_type": "markdown",
   "metadata": {},
   "source": [
    "### Scaling the numerical feature columns to fit the model "
   ]
  },
  {
   "cell_type": "code",
   "execution_count": 35,
   "metadata": {},
   "outputs": [],
   "source": [
    "from sklearn.preprocessing import StandardScaler\n",
    "scale = StandardScaler().fit(train_data[['mean_halt_times_source', 'mean_halt_times_destination', 'distance_between_stations']])\n",
    "train_data.loc[:,['mean_halt_times_source', 'mean_halt_times_destination', 'distance_between_stations']] = scale.transform(train_data[['mean_halt_times_source', 'mean_halt_times_destination', 'distance_between_stations']])\n",
    "test_data.loc[:,['mean_halt_times_source', 'mean_halt_times_destination', 'distance_between_stations']] = scale.transform(test_data[['mean_halt_times_source', 'mean_halt_times_destination', 'distance_between_stations']])                             "
   ]
  },
  {
   "cell_type": "markdown",
   "metadata": {},
   "source": [
    "### Preparing the datasets for train and validation"
   ]
  },
  {
   "cell_type": "code",
   "execution_count": 36,
   "metadata": {},
   "outputs": [],
   "source": [
    "train_columns = ['train_high_prob', 'train_low_prob', 'train_medium_prob', 'station_high_prob', 'station_medium_prob', \n",
    "                 'station_low_prob', 'hour_high_prob', 'hour_medium_prob', 'day_high_prob', 'day_medium_prob', 'day_low_prob', \n",
    "                 'hour_low_prob', 'mean_halt_times_source', 'mean_halt_times_destination', 'country_high_prob', \n",
    "                 'country_medium_prob', 'country_low_prob', 'is_weekend', 'distance_between_stations'] \n",
    "X = train_data[train_columns]\n",
    "Y = train_data['target']\n",
    "from sklearn.model_selection import train_test_split\n",
    "x_train, x_test, y_train, y_test = train_test_split(X, Y, test_size = 0.4, stratify=Y)"
   ]
  },
  {
   "cell_type": "markdown",
   "metadata": {},
   "source": [
    "### Analysing with Random Forest Classifier Model"
   ]
  },
  {
   "cell_type": "code",
   "execution_count": 37,
   "metadata": {
    "scrolled": true
   },
   "outputs": [
    {
     "name": "stdout",
     "output_type": "stream",
     "text": [
      "0.9805194805194806\n",
      "0.8501945525291829\n"
     ]
    },
    {
     "name": "stderr",
     "output_type": "stream",
     "text": [
      "D:\\Anaconda3\\lib\\site-packages\\sklearn\\ensemble\\forest.py:245: FutureWarning: The default value of n_estimators will change from 10 in version 0.20 to 100 in 0.22.\n",
      "  \"10 in version 0.20 to 100 in 0.22.\", FutureWarning)\n"
     ]
    }
   ],
   "source": [
    "from sklearn.ensemble import RandomForestClassifier\n",
    "from sklearn.metrics import confusion_matrix, f1_score\n",
    "rf_clf = RandomForestClassifier()\n",
    "rf_clf.fit(x_train, y_train)\n",
    "print(rf_clf.score(x_train, y_train))\n",
    "print(rf_clf.score(x_test, y_test))"
   ]
  },
  {
   "cell_type": "code",
   "execution_count": 38,
   "metadata": {
    "scrolled": true
   },
   "outputs": [
    {
     "name": "stdout",
     "output_type": "stream",
     "text": [
      "[[190  18  10]\n",
      " [ 13 111  11]\n",
      " [ 10  15 136]]\n",
      "0.8442384567745199\n"
     ]
    }
   ],
   "source": [
    "print(confusion_matrix(rf_clf.predict(x_test), y_test))\n",
    "print(f1_score(rf_clf.predict(x_test), y_test, average='macro'))"
   ]
  },
  {
   "cell_type": "code",
   "execution_count": 39,
   "metadata": {},
   "outputs": [
    {
     "name": "stdout",
     "output_type": "stream",
     "text": [
      "(array(['high', 'low', 'medium'], dtype=object), array([248, 263, 453], dtype=int64))\n"
     ]
    }
   ],
   "source": [
    "submission = {}\n",
    "submission['id_code'] = test_data['id_code']\n",
    "test_pred = rf_clf.predict(test_data[train_columns])\n",
    "submission['target']=np.where(test_pred==0, 'low', np.where(test_pred==1, 'medium', 'high'))\n",
    "submission=pd.DataFrame(submission)\n",
    "print(np.unique(submission['target'], return_counts=True))\n",
    "submission.to_csv(cwd + \"/submission_v1.csv\", index=False)"
   ]
  },
  {
   "cell_type": "markdown",
   "metadata": {},
   "source": [
    "### Analysing with Extra Trees Classifier Model "
   ]
  },
  {
   "cell_type": "code",
   "execution_count": 40,
   "metadata": {
    "scrolled": true
   },
   "outputs": [
    {
     "data": {
      "text/plain": [
       "ExtraTreesClassifier(bootstrap=True, class_weight=None, criterion='entropy',\n",
       "                     max_depth=7, max_features=None, max_leaf_nodes=7,\n",
       "                     min_impurity_decrease=0.0, min_impurity_split=None,\n",
       "                     min_samples_leaf=1, min_samples_split=2,\n",
       "                     min_weight_fraction_leaf=0.0, n_estimators=30, n_jobs=None,\n",
       "                     oob_score=False, random_state=None, verbose=0,\n",
       "                     warm_start=False)"
      ]
     },
     "execution_count": 40,
     "metadata": {},
     "output_type": "execute_result"
    }
   ],
   "source": [
    "from sklearn.ensemble import ExtraTreesClassifier\n",
    "et_clf = ExtraTreesClassifier(criterion='entropy', n_estimators=30, bootstrap=True, max_features=None, max_depth=7, max_leaf_nodes=7)\n",
    "et_clf"
   ]
  },
  {
   "cell_type": "code",
   "execution_count": 41,
   "metadata": {},
   "outputs": [
    {
     "name": "stdout",
     "output_type": "stream",
     "text": [
      "0.8935064935064935\n",
      "0.8618677042801557\n"
     ]
    }
   ],
   "source": [
    "et_clf.fit(x_train, y_train)\n",
    "print(et_clf.score(x_train, y_train))\n",
    "print(et_clf.score(x_test, y_test))"
   ]
  },
  {
   "cell_type": "code",
   "execution_count": 42,
   "metadata": {},
   "outputs": [
    {
     "name": "stdout",
     "output_type": "stream",
     "text": [
      "[[188  15   5]\n",
      " [ 13 115  12]\n",
      " [ 12  14 140]]\n",
      "0.856614619633309\n"
     ]
    }
   ],
   "source": [
    "print(confusion_matrix(et_clf.predict(x_test), y_test))\n",
    "print(f1_score(et_clf.predict(x_test), y_test, average='macro'))"
   ]
  },
  {
   "cell_type": "code",
   "execution_count": 43,
   "metadata": {},
   "outputs": [
    {
     "name": "stdout",
     "output_type": "stream",
     "text": [
      "(array(['high', 'low', 'medium'], dtype=object), array([528, 185, 251], dtype=int64))\n"
     ]
    }
   ],
   "source": [
    "test_pred = et_clf.predict(test_data[train_columns])\n",
    "submission['target']=np.where(test_pred==0, 'low', np.where(test_pred==1, 'medium', 'high'))\n",
    "print(np.unique(submission['target'], return_counts=True))\n",
    "submission.to_csv(cwd + \"/submission_v2.csv\", index=False)"
   ]
  },
  {
   "cell_type": "markdown",
   "metadata": {},
   "source": [
    "### Analysing with Logistic Regression Model"
   ]
  },
  {
   "cell_type": "code",
   "execution_count": 44,
   "metadata": {},
   "outputs": [
    {
     "data": {
      "text/plain": [
       "LogisticRegression(C=0.01, class_weight=None, dual=False, fit_intercept=True,\n",
       "                   intercept_scaling=1, l1_ratio=None, max_iter=100,\n",
       "                   multi_class='multinomial', n_jobs=None, penalty='l2',\n",
       "                   random_state=None, solver='lbfgs', tol=0.0001, verbose=0,\n",
       "                   warm_start=False)"
      ]
     },
     "execution_count": 44,
     "metadata": {},
     "output_type": "execute_result"
    }
   ],
   "source": [
    "from sklearn.linear_model import LogisticRegression\n",
    "log_reg = LogisticRegression(C=0.01, multi_class='multinomial', solver='lbfgs', max_iter=100)\n",
    "log_reg"
   ]
  },
  {
   "cell_type": "code",
   "execution_count": 45,
   "metadata": {
    "scrolled": true
   },
   "outputs": [
    {
     "name": "stdout",
     "output_type": "stream",
     "text": [
      "0.866822429906542\n",
      "0.8443579766536965\n",
      "[[200  27  16]\n",
      " [  6 103  10]\n",
      " [  7  14 131]]\n",
      "0.8361197948542588\n"
     ]
    }
   ],
   "source": [
    "log_reg.fit(x_train, y_train)\n",
    "print(log_reg.score(X, Y))\n",
    "print(log_reg.score(x_test, y_test))\n",
    "print(confusion_matrix(log_reg.predict(x_test), y_test))\n",
    "print(f1_score(log_reg.predict(x_test), y_test, average='macro'))"
   ]
  },
  {
   "cell_type": "code",
   "execution_count": 46,
   "metadata": {},
   "outputs": [
    {
     "name": "stdout",
     "output_type": "stream",
     "text": [
      "(array(['high', 'low', 'medium'], dtype=object), array([266, 531, 167], dtype=int64))\n"
     ]
    }
   ],
   "source": [
    "#Only Logistic Regression\n",
    "test_pred = log_reg.predict(test_data[train_columns])\n",
    "submission['target']=np.where(test_pred==0, 'low', np.where(test_pred==1, 'medium', 'high'))\n",
    "print(np.unique(submission['target'], return_counts=True))\n",
    "submission.to_csv(cwd + \"/submission_v3.csv\", index=False)"
   ]
  },
  {
   "cell_type": "markdown",
   "metadata": {},
   "source": [
    "### Analysing with LGBM (Light Gradient Boosting Model) "
   ]
  },
  {
   "cell_type": "code",
   "execution_count": 47,
   "metadata": {},
   "outputs": [],
   "source": [
    "train_columns = ['train_high_prob', 'train_low_prob', 'train_medium_prob', 'station_high_prob', 'station_medium_prob', \n",
    "                 'station_low_prob', 'country_high_prob', \n",
    "                 'country_medium_prob', 'country_low_prob'] \n",
    "X = train_data[train_columns]\n",
    "Y = train_data['target']\n",
    "\n",
    "x_train, x_test, y_train, y_test = train_test_split(X, Y, test_size = 0.4, stratify=Y)"
   ]
  },
  {
   "cell_type": "code",
   "execution_count": 48,
   "metadata": {},
   "outputs": [
    {
     "name": "stdout",
     "output_type": "stream",
     "text": [
      "Training until validation scores don't improve for 100 rounds\n",
      "[100]\ttraining's multi_logloss: 0.211846\tvalid_1's multi_logloss: 0.19554\n",
      "[200]\ttraining's multi_logloss: 0.17009\tvalid_1's multi_logloss: 0.155928\n",
      "[300]\ttraining's multi_logloss: 0.144506\tvalid_1's multi_logloss: 0.129739\n",
      "[400]\ttraining's multi_logloss: 0.131719\tvalid_1's multi_logloss: 0.118849\n",
      "[500]\ttraining's multi_logloss: 0.123414\tvalid_1's multi_logloss: 0.114458\n",
      "[600]\ttraining's multi_logloss: 0.117911\tvalid_1's multi_logloss: 0.106791\n",
      "[700]\ttraining's multi_logloss: 0.113675\tvalid_1's multi_logloss: 0.108904\n",
      "Early stopping, best iteration is:\n",
      "[650]\ttraining's multi_logloss: 0.116219\tvalid_1's multi_logloss: 0.106029\n"
     ]
    }
   ],
   "source": [
    "import lightgbm as lgb\n",
    "params = {\n",
    "            'boosting_type': 'gbdt',\n",
    "            'objective': 'multiclass',\n",
    "            'num_class':3,\n",
    "            'metric': {'multi_logloss'},\n",
    "            'subsample': 0.7,\n",
    "            'learning_rate': 0.04,\n",
    "            'feature_fraction': 0.8,\n",
    "            'bagging_fraction': 0.8,\n",
    "            'pos_bagging_fraction':0.7,\n",
    "            'neg_bagging_fraction':0.3,\n",
    "            'bagging_freq':10,\n",
    "            'is_unbalance':True,\n",
    "            'num_leaves': 16,\n",
    "            'max_depth': 5,\n",
    "            'random_state':3\n",
    "            }\n",
    "\n",
    "lgb_train = lgb.Dataset(X, Y)\n",
    "lgb_eval = lgb.Dataset(x_test, y_test)\n",
    "gbm = lgb.train(params,\n",
    "                lgb_train,\n",
    "                num_boost_round=2000,\n",
    "                valid_sets=(lgb_train, lgb_eval),\n",
    "               early_stopping_rounds=100,\n",
    "               verbose_eval = 100)"
   ]
  },
  {
   "cell_type": "code",
   "execution_count": 49,
   "metadata": {},
   "outputs": [
    {
     "name": "stdout",
     "output_type": "stream",
     "text": [
      "[[204   2   4]\n",
      " [  3 135   4]\n",
      " [  6   7 149]]\n",
      "F1 Score :  0.9475880767150026\n",
      "Accuracy Score :  0.9494163424124513\n"
     ]
    }
   ],
   "source": [
    "from sklearn.metrics import accuracy_score\n",
    "print(confusion_matrix(np.argmax(gbm.predict(x_test), axis=1), y_test))\n",
    "print(\"F1 Score : \",f1_score(np.argmax(gbm.predict(x_test), axis=1), y_test, average='macro'))\n",
    "print(\"Accuracy Score : \", accuracy_score(np.argmax(gbm.predict(x_test), axis=1), y_test))"
   ]
  },
  {
   "cell_type": "code",
   "execution_count": 50,
   "metadata": {},
   "outputs": [
    {
     "name": "stdout",
     "output_type": "stream",
     "text": [
      "(array(['high', 'low', 'medium'], dtype=object), array([510, 231, 223], dtype=int64))\n"
     ]
    }
   ],
   "source": [
    "test_pred = np.argmax(gbm.predict(test_data[train_columns]), axis=1)\n",
    "submission['target']=np.where(test_pred==0, 'low', np.where(test_pred==1, 'medium', 'high'))\n",
    "print(np.unique(submission['target'], return_counts=True))\n",
    "submission.to_csv(cwd + \"/submission_v4.csv\", index=False)"
   ]
  },
  {
   "cell_type": "code",
   "execution_count": null,
   "metadata": {},
   "outputs": [],
   "source": []
  }
 ],
 "metadata": {
  "kernelspec": {
   "display_name": "Python 3",
   "language": "python",
   "name": "python3"
  },
  "language_info": {
   "codemirror_mode": {
    "name": "ipython",
    "version": 3
   },
   "file_extension": ".py",
   "mimetype": "text/x-python",
   "name": "python",
   "nbconvert_exporter": "python",
   "pygments_lexer": "ipython3",
   "version": "3.7.3"
  }
 },
 "nbformat": 4,
 "nbformat_minor": 2
}
