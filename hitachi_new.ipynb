{
 "cells": [
  {
   "cell_type": "code",
   "execution_count": 1,
   "metadata": {},
   "outputs": [],
   "source": [
    "#import tensorflow as tf\n",
    "import numpy as np\n",
    "import pandas as pd\n",
    "#import holidays\n",
    "import matplotlib.pyplot as plt\n",
    "from math import sin, cos, sqrt, atan2, radians\n",
    "\n",
    "%matplotlib inline\n",
    "#holiday_list = holidays.India(years=2016)"
   ]
  },
  {
   "cell_type": "code",
   "execution_count": 2,
   "metadata": {},
   "outputs": [],
   "source": [
    "train_data = pd.read_csv(r\"C:\\Users\\naoggu\\Downloads\\Hitachi Challenge\\DataSet/train.csv\")\n",
    "test_data = pd.read_csv(r\"C:\\Users\\naoggu\\Downloads\\Hitachi Challenge\\DataSet/test.csv\")\n",
    "columns=train_data.drop(['id_code', 'target'], axis=1).columns\n",
    "tot_data = pd.concat([train_data[columns], test_data[columns]])"
   ]
  },
  {
   "cell_type": "code",
   "execution_count": 3,
   "metadata": {},
   "outputs": [],
   "source": [
    "train_data['current_datetime'] = pd.to_datetime(train_data['current_date']+' '+train_data['current_time'])\n",
    "train_data['datetime'] = pd.to_datetime(train_data['current_date']+' '+train_data['current_time'])\n",
    "test_data['current_datetime'] = pd.to_datetime(test_data['current_date']+' '+test_data['current_time'])\n",
    "test_data['datetime'] = pd.to_datetime(test_data['current_date']+' '+test_data['current_time'])"
   ]
  },
  {
   "cell_type": "code",
   "execution_count": 4,
   "metadata": {},
   "outputs": [],
   "source": [
    "source_station = tot_data[['source_name', 'country_code_source', 'longitude_source', 'latitude_source', 'mean_halt_times_source']]\n",
    "destination_station = tot_data[['destination_name', 'country_code_destination', 'longitude_destination', 'latitude_destination', 'mean_halt_times_destination']]\n",
    "source_station.columns=['name', 'country_code', 'latitude', 'longitude', 'mean_halt_times']\n",
    "destination_station.columns=['name', 'country_code', 'latitude', 'longitude', 'mean_halt_times']"
   ]
  },
  {
   "cell_type": "code",
   "execution_count": 5,
   "metadata": {},
   "outputs": [
    {
     "data": {
      "text/html": [
       "<div>\n",
       "<style scoped>\n",
       "    .dataframe tbody tr th:only-of-type {\n",
       "        vertical-align: middle;\n",
       "    }\n",
       "\n",
       "    .dataframe tbody tr th {\n",
       "        vertical-align: top;\n",
       "    }\n",
       "\n",
       "    .dataframe thead th {\n",
       "        text-align: right;\n",
       "    }\n",
       "</style>\n",
       "<table border=\"1\" class=\"dataframe\">\n",
       "  <thead>\n",
       "    <tr style=\"text-align: right;\">\n",
       "      <th></th>\n",
       "      <th>name</th>\n",
       "      <th>country_code</th>\n",
       "      <th>latitude</th>\n",
       "      <th>longitude</th>\n",
       "      <th>mean_halt_times</th>\n",
       "      <th>id</th>\n",
       "    </tr>\n",
       "  </thead>\n",
       "  <tbody>\n",
       "    <tr>\n",
       "      <td>0</td>\n",
       "      <td>station$0</td>\n",
       "      <td>logbp</td>\n",
       "      <td>-0.126061</td>\n",
       "      <td>51.531040</td>\n",
       "      <td>0.000000</td>\n",
       "      <td>0</td>\n",
       "    </tr>\n",
       "    <tr>\n",
       "      <td>1</td>\n",
       "      <td>station$1</td>\n",
       "      <td>logbp</td>\n",
       "      <td>-0.126061</td>\n",
       "      <td>51.531040</td>\n",
       "      <td>0.000000</td>\n",
       "      <td>1</td>\n",
       "    </tr>\n",
       "    <tr>\n",
       "      <td>2</td>\n",
       "      <td>station$2</td>\n",
       "      <td>logbp</td>\n",
       "      <td>-0.126061</td>\n",
       "      <td>51.531040</td>\n",
       "      <td>0.000000</td>\n",
       "      <td>2</td>\n",
       "    </tr>\n",
       "    <tr>\n",
       "      <td>3</td>\n",
       "      <td>station$3</td>\n",
       "      <td>logbp</td>\n",
       "      <td>0.321070</td>\n",
       "      <td>51.443040</td>\n",
       "      <td>0.000000</td>\n",
       "      <td>3</td>\n",
       "    </tr>\n",
       "    <tr>\n",
       "      <td>4</td>\n",
       "      <td>station$11</td>\n",
       "      <td>zxdec</td>\n",
       "      <td>6.958823</td>\n",
       "      <td>50.942721</td>\n",
       "      <td>12.540462</td>\n",
       "      <td>11</td>\n",
       "    </tr>\n",
       "    <tr>\n",
       "      <td>...</td>\n",
       "      <td>...</td>\n",
       "      <td>...</td>\n",
       "      <td>...</td>\n",
       "      <td>...</td>\n",
       "      <td>...</td>\n",
       "      <td>...</td>\n",
       "    </tr>\n",
       "    <tr>\n",
       "      <td>304</td>\n",
       "      <td>station$640</td>\n",
       "      <td>whber</td>\n",
       "      <td>2.999286</td>\n",
       "      <td>50.772072</td>\n",
       "      <td>22.445087</td>\n",
       "      <td>640</td>\n",
       "    </tr>\n",
       "    <tr>\n",
       "      <td>305</td>\n",
       "      <td>station$642</td>\n",
       "      <td>whber</td>\n",
       "      <td>2.736343</td>\n",
       "      <td>50.854449</td>\n",
       "      <td>22.445087</td>\n",
       "      <td>642</td>\n",
       "    </tr>\n",
       "    <tr>\n",
       "      <td>306</td>\n",
       "      <td>station$643</td>\n",
       "      <td>whber</td>\n",
       "      <td>3.130412</td>\n",
       "      <td>50.949025</td>\n",
       "      <td>35.274566</td>\n",
       "      <td>643</td>\n",
       "    </tr>\n",
       "    <tr>\n",
       "      <td>307</td>\n",
       "      <td>station$644</td>\n",
       "      <td>whber</td>\n",
       "      <td>3.212088</td>\n",
       "      <td>50.921149</td>\n",
       "      <td>35.274566</td>\n",
       "      <td>644</td>\n",
       "    </tr>\n",
       "    <tr>\n",
       "      <td>308</td>\n",
       "      <td>station$645</td>\n",
       "      <td>whber</td>\n",
       "      <td>3.255416</td>\n",
       "      <td>50.914326</td>\n",
       "      <td>33.202312</td>\n",
       "      <td>645</td>\n",
       "    </tr>\n",
       "  </tbody>\n",
       "</table>\n",
       "<p>309 rows × 6 columns</p>\n",
       "</div>"
      ],
      "text/plain": [
       "            name country_code  latitude  longitude  mean_halt_times   id\n",
       "0      station$0        logbp -0.126061  51.531040         0.000000    0\n",
       "1      station$1        logbp -0.126061  51.531040         0.000000    1\n",
       "2      station$2        logbp -0.126061  51.531040         0.000000    2\n",
       "3      station$3        logbp  0.321070  51.443040         0.000000    3\n",
       "4     station$11        zxdec  6.958823  50.942721        12.540462   11\n",
       "..           ...          ...       ...        ...              ...  ...\n",
       "304  station$640        whber  2.999286  50.772072        22.445087  640\n",
       "305  station$642        whber  2.736343  50.854449        22.445087  642\n",
       "306  station$643        whber  3.130412  50.949025        35.274566  643\n",
       "307  station$644        whber  3.212088  50.921149        35.274566  644\n",
       "308  station$645        whber  3.255416  50.914326        33.202312  645\n",
       "\n",
       "[309 rows x 6 columns]"
      ]
     },
     "execution_count": 5,
     "metadata": {},
     "output_type": "execute_result"
    }
   ],
   "source": [
    "station_detail = pd.concat([source_station, destination_station])\n",
    "station_detail['id'] = station_detail['name'].apply(lambda x: int(x[8:]))\n",
    "station_detail = station_detail.drop_duplicates()\n",
    "station_detail.sort_values('id', inplace=True)\n",
    "station_detail.reset_index(drop=True, inplace=True)\n",
    "station_detail = station_detail.fillna(method = 'bfill')\n",
    "station_detail"
   ]
  },
  {
   "cell_type": "code",
   "execution_count": 6,
   "metadata": {},
   "outputs": [],
   "source": [
    "station_dict = {}\n",
    "for x,y in zip(station_detail['name'], station_detail['id']):\n",
    "    station_dict[x] = y"
   ]
  },
  {
   "cell_type": "code",
   "execution_count": 7,
   "metadata": {},
   "outputs": [
    {
     "data": {
      "text/html": [
       "<div>\n",
       "<style scoped>\n",
       "    .dataframe tbody tr th:only-of-type {\n",
       "        vertical-align: middle;\n",
       "    }\n",
       "\n",
       "    .dataframe tbody tr th {\n",
       "        vertical-align: top;\n",
       "    }\n",
       "\n",
       "    .dataframe thead th {\n",
       "        text-align: right;\n",
       "    }\n",
       "</style>\n",
       "<table border=\"1\" class=\"dataframe\">\n",
       "  <thead>\n",
       "    <tr style=\"text-align: right;\">\n",
       "      <th></th>\n",
       "      <th>id</th>\n",
       "      <th>code</th>\n",
       "    </tr>\n",
       "  </thead>\n",
       "  <tbody>\n",
       "    <tr>\n",
       "      <td>0</td>\n",
       "      <td>0</td>\n",
       "      <td>aqfre</td>\n",
       "    </tr>\n",
       "    <tr>\n",
       "      <td>1</td>\n",
       "      <td>1</td>\n",
       "      <td>logbp</td>\n",
       "    </tr>\n",
       "    <tr>\n",
       "      <td>2</td>\n",
       "      <td>2</td>\n",
       "      <td>qwnll</td>\n",
       "    </tr>\n",
       "    <tr>\n",
       "      <td>3</td>\n",
       "      <td>3</td>\n",
       "      <td>whber</td>\n",
       "    </tr>\n",
       "    <tr>\n",
       "      <td>4</td>\n",
       "      <td>4</td>\n",
       "      <td>wsluu</td>\n",
       "    </tr>\n",
       "    <tr>\n",
       "      <td>5</td>\n",
       "      <td>5</td>\n",
       "      <td>zxdec</td>\n",
       "    </tr>\n",
       "  </tbody>\n",
       "</table>\n",
       "</div>"
      ],
      "text/plain": [
       "   id   code\n",
       "0   0  aqfre\n",
       "1   1  logbp\n",
       "2   2  qwnll\n",
       "3   3  whber\n",
       "4   4  wsluu\n",
       "5   5  zxdec"
      ]
     },
     "execution_count": 7,
     "metadata": {},
     "output_type": "execute_result"
    }
   ],
   "source": [
    "country_code = station_detail['country_code'].sort_values()\n",
    "country_code = country_code.drop_duplicates()\n",
    "country_code.reset_index(drop=True, inplace=True)\n",
    "country_code = country_code.reset_index(drop=False)\n",
    "country_code.columns=['id', 'code']\n",
    "country_code"
   ]
  },
  {
   "cell_type": "code",
   "execution_count": 8,
   "metadata": {},
   "outputs": [],
   "source": [
    "country_dict={}\n",
    "for x,y in zip(country_code['code'], country_code['id']):\n",
    "    country_dict[x]=y"
   ]
  },
  {
   "cell_type": "code",
   "execution_count": 9,
   "metadata": {},
   "outputs": [
    {
     "data": {
      "text/html": [
       "<div>\n",
       "<style scoped>\n",
       "    .dataframe tbody tr th:only-of-type {\n",
       "        vertical-align: middle;\n",
       "    }\n",
       "\n",
       "    .dataframe tbody tr th {\n",
       "        vertical-align: top;\n",
       "    }\n",
       "\n",
       "    .dataframe thead th {\n",
       "        text-align: right;\n",
       "    }\n",
       "</style>\n",
       "<table border=\"1\" class=\"dataframe\">\n",
       "  <thead>\n",
       "    <tr style=\"text-align: right;\">\n",
       "      <th></th>\n",
       "      <th>train_id</th>\n",
       "      <th>id_code</th>\n",
       "      <th>datetime</th>\n",
       "      <th>train_name</th>\n",
       "      <th>source</th>\n",
       "      <th>destination</th>\n",
       "      <th>passenger_demand</th>\n",
       "    </tr>\n",
       "  </thead>\n",
       "  <tbody>\n",
       "    <tr>\n",
       "      <td>0</td>\n",
       "      <td>0</td>\n",
       "      <td>isfywypmkqqhyft</td>\n",
       "      <td>2016-07-27 20:05:51</td>\n",
       "      <td>ICZVZS</td>\n",
       "      <td>station$147</td>\n",
       "      <td>station$1</td>\n",
       "      <td>high</td>\n",
       "    </tr>\n",
       "    <tr>\n",
       "      <td>1</td>\n",
       "      <td>1</td>\n",
       "      <td>mqsfxyvuqpbwomk</td>\n",
       "      <td>2016-07-27 20:06:11</td>\n",
       "      <td>ICZVZS</td>\n",
       "      <td>station$147</td>\n",
       "      <td>station$1</td>\n",
       "      <td>high</td>\n",
       "    </tr>\n",
       "    <tr>\n",
       "      <td>2</td>\n",
       "      <td>2</td>\n",
       "      <td>alspwwtbdvqsgby</td>\n",
       "      <td>2016-07-27 20:08:57</td>\n",
       "      <td>ICZVZS</td>\n",
       "      <td>station$147</td>\n",
       "      <td>station$1</td>\n",
       "      <td>high</td>\n",
       "    </tr>\n",
       "    <tr>\n",
       "      <td>3</td>\n",
       "      <td>3</td>\n",
       "      <td>szitxhhqduyrqpg</td>\n",
       "      <td>2016-07-27 20:09:08</td>\n",
       "      <td>ICZVZS</td>\n",
       "      <td>station$147</td>\n",
       "      <td>station$1</td>\n",
       "      <td>high</td>\n",
       "    </tr>\n",
       "    <tr>\n",
       "      <td>4</td>\n",
       "      <td>4</td>\n",
       "      <td>krisdqzczivvwcp</td>\n",
       "      <td>2016-07-27 20:11:01</td>\n",
       "      <td>ICZVZS</td>\n",
       "      <td>station$147</td>\n",
       "      <td>station$1</td>\n",
       "      <td>high</td>\n",
       "    </tr>\n",
       "    <tr>\n",
       "      <td>...</td>\n",
       "      <td>...</td>\n",
       "      <td>...</td>\n",
       "      <td>...</td>\n",
       "      <td>...</td>\n",
       "      <td>...</td>\n",
       "      <td>...</td>\n",
       "      <td>...</td>\n",
       "    </tr>\n",
       "    <tr>\n",
       "      <td>1279</td>\n",
       "      <td>1279</td>\n",
       "      <td>gfnxmbjcdyjdbeo</td>\n",
       "      <td>2016-10-05 15:12:10</td>\n",
       "      <td>ICZVZY</td>\n",
       "      <td>station$130</td>\n",
       "      <td>station$279</td>\n",
       "      <td>medium</td>\n",
       "    </tr>\n",
       "    <tr>\n",
       "      <td>1280</td>\n",
       "      <td>1280</td>\n",
       "      <td>mcfgyjeuatomuub</td>\n",
       "      <td>2016-10-05 18:14:27</td>\n",
       "      <td>ICWZZV</td>\n",
       "      <td>station$544</td>\n",
       "      <td>station$266</td>\n",
       "      <td>medium</td>\n",
       "    </tr>\n",
       "    <tr>\n",
       "      <td>1281</td>\n",
       "      <td>1281</td>\n",
       "      <td>rwhslfljqeapqhw</td>\n",
       "      <td>2016-10-05 18:23:44</td>\n",
       "      <td>SZZTSS</td>\n",
       "      <td>station$147</td>\n",
       "      <td>station$159</td>\n",
       "      <td>high</td>\n",
       "    </tr>\n",
       "    <tr>\n",
       "      <td>1282</td>\n",
       "      <td>1282</td>\n",
       "      <td>xcseqqecaatslst</td>\n",
       "      <td>2016-10-05 18:27:34</td>\n",
       "      <td>ICYAXR</td>\n",
       "      <td>station$147</td>\n",
       "      <td>station$422</td>\n",
       "      <td>low</td>\n",
       "    </tr>\n",
       "    <tr>\n",
       "      <td>1283</td>\n",
       "      <td>1283</td>\n",
       "      <td>hfhwirltuffenfr</td>\n",
       "      <td>2016-10-05 21:30:31</td>\n",
       "      <td>ICWYYA</td>\n",
       "      <td>station$200</td>\n",
       "      <td>station$185</td>\n",
       "      <td>high</td>\n",
       "    </tr>\n",
       "  </tbody>\n",
       "</table>\n",
       "<p>1284 rows × 7 columns</p>\n",
       "</div>"
      ],
      "text/plain": [
       "      train_id          id_code            datetime train_name       source  \\\n",
       "0            0  isfywypmkqqhyft 2016-07-27 20:05:51     ICZVZS  station$147   \n",
       "1            1  mqsfxyvuqpbwomk 2016-07-27 20:06:11     ICZVZS  station$147   \n",
       "2            2  alspwwtbdvqsgby 2016-07-27 20:08:57     ICZVZS  station$147   \n",
       "3            3  szitxhhqduyrqpg 2016-07-27 20:09:08     ICZVZS  station$147   \n",
       "4            4  krisdqzczivvwcp 2016-07-27 20:11:01     ICZVZS  station$147   \n",
       "...        ...              ...                 ...        ...          ...   \n",
       "1279      1279  gfnxmbjcdyjdbeo 2016-10-05 15:12:10     ICZVZY  station$130   \n",
       "1280      1280  mcfgyjeuatomuub 2016-10-05 18:14:27     ICWZZV  station$544   \n",
       "1281      1281  rwhslfljqeapqhw 2016-10-05 18:23:44     SZZTSS  station$147   \n",
       "1282      1282  xcseqqecaatslst 2016-10-05 18:27:34     ICYAXR  station$147   \n",
       "1283      1283  hfhwirltuffenfr 2016-10-05 21:30:31     ICWYYA  station$200   \n",
       "\n",
       "      destination passenger_demand  \n",
       "0       station$1             high  \n",
       "1       station$1             high  \n",
       "2       station$1             high  \n",
       "3       station$1             high  \n",
       "4       station$1             high  \n",
       "...           ...              ...  \n",
       "1279  station$279           medium  \n",
       "1280  station$266           medium  \n",
       "1281  station$159             high  \n",
       "1282  station$422              low  \n",
       "1283  station$185             high  \n",
       "\n",
       "[1284 rows x 7 columns]"
      ]
     },
     "execution_count": 9,
     "metadata": {},
     "output_type": "execute_result"
    }
   ],
   "source": [
    "train_detail = train_data.loc[:,['id_code', 'current_datetime', 'train_name', 'source_name', 'destination_name', 'target']]\n",
    "train_detail = train_detail.drop_duplicates()\n",
    "train_detail.sort_values('current_datetime', inplace=True)\n",
    "train_detail.reset_index(drop=True, inplace=True)\n",
    "train_detail.reset_index(inplace=True)\n",
    "train_detail.rename(columns={'current_datetime':'datetime', 'index':'train_id', 'target':'passenger_demand', \n",
    "                             'source_name':'source', 'destination_name': 'destination'}, inplace=True)\n",
    "train_detail"
   ]
  },
  {
   "cell_type": "code",
   "execution_count": 10,
   "metadata": {},
   "outputs": [],
   "source": [
    "train_dict = {}\n",
    "for x,y in zip(train_detail['train_name'], train_detail['train_id']):\n",
    "    train_dict[x] = y"
   ]
  },
  {
   "cell_type": "code",
   "execution_count": 11,
   "metadata": {},
   "outputs": [],
   "source": [
    "station_detail['country_code'] = station_detail['country_code'].apply(lambda x: country_dict[x])\n",
    "train_detail['source'] = train_detail['source'].apply(lambda x: station_dict[x])\n",
    "train_detail['destination'] = train_detail['destination'].apply(lambda x: station_dict[x])"
   ]
  },
  {
   "cell_type": "code",
   "execution_count": 12,
   "metadata": {},
   "outputs": [],
   "source": [
    "def get_distance(lat1, lon1, lat2, lon2):\n",
    "    # approximate radius of earth in km\n",
    "    R = 6373.0\n",
    "\n",
    "    lat1 = np.radians(lat1)\n",
    "    lon1 = np.radians(lon1)\n",
    "    lat2 = np.radians(lat2)\n",
    "    lon2 = np.radians(lon2)\n",
    "\n",
    "    dlon = lon2 - lon1\n",
    "    dlat = lat2 - lat1\n",
    "\n",
    "    a = np.sin(dlat / 2)**2 + np.cos(lat1) * np.cos(lat2) * np.sin(dlon / 2)**2\n",
    "    c = 2 * np.arctan2(np.sqrt(a), np.sqrt(1 - a))\n",
    "\n",
    "    distance = R * c\n",
    "    return distance"
   ]
  },
  {
   "cell_type": "code",
   "execution_count": 13,
   "metadata": {},
   "outputs": [],
   "source": [
    "train_data = train_detail.merge(station_detail, left_on='source', right_on='id', how='left')"
   ]
  },
  {
   "cell_type": "code",
   "execution_count": 14,
   "metadata": {},
   "outputs": [],
   "source": [
    "train_data = train_data.merge(station_detail, left_on='source', right_on='id', how='left', suffixes=('_source', '_destination'))"
   ]
  },
  {
   "cell_type": "code",
   "execution_count": 15,
   "metadata": {},
   "outputs": [],
   "source": [
    "train_data['distance_between_stations'] = get_distance(train_data['latitude_source'].values, train_data['longitude_source'].values, \n",
    "                                                       train_data['latitude_destination'].values, train_data['longitude_destination'].values)"
   ]
  },
  {
   "cell_type": "code",
   "execution_count": 16,
   "metadata": {},
   "outputs": [],
   "source": [
    "datetime_detail = pd.DataFrame(pd.date_range('2016-06-01', '2016-11-30', freq='s'), columns=['datetime'])\n",
    "datetime_detail['datetime'] = pd.to_datetime(datetime_detail['datetime'])"
   ]
  },
  {
   "cell_type": "code",
   "execution_count": 17,
   "metadata": {},
   "outputs": [],
   "source": [
    "datetime_detail['day'] = datetime_detail['datetime'].dt.weekday.astype(int)\n",
    "datetime_detail['is_weekend']=0\n",
    "datetime_detail.loc[datetime_detail['day']>4, 'is_weekend']=1\n",
    "datetime_detail['hours'] = datetime_detail['datetime'].dt.hour.astype(int)\n",
    "datetime_detail['minutes'] = datetime_detail['datetime'].dt.minute.astype(int)\n",
    "test_data['hours'] = test_data['datetime'].dt.hour\n",
    "test_data['minutes'] = test_data['datetime'].dt.month.astype(int)\n",
    "test_data['is_weekend'] = (test_data['is_weekend']*1).astype(int)"
   ]
  },
  {
   "cell_type": "code",
   "execution_count": 18,
   "metadata": {},
   "outputs": [],
   "source": [
    "train_data = train_data.merge(datetime_detail, on='datetime', how='left')"
   ]
  },
  {
   "cell_type": "code",
   "execution_count": 19,
   "metadata": {},
   "outputs": [
    {
     "data": {
      "text/html": [
       "<div>\n",
       "<style scoped>\n",
       "    .dataframe tbody tr th:only-of-type {\n",
       "        vertical-align: middle;\n",
       "    }\n",
       "\n",
       "    .dataframe tbody tr th {\n",
       "        vertical-align: top;\n",
       "    }\n",
       "\n",
       "    .dataframe thead th {\n",
       "        text-align: right;\n",
       "    }\n",
       "</style>\n",
       "<table border=\"1\" class=\"dataframe\">\n",
       "  <thead>\n",
       "    <tr style=\"text-align: right;\">\n",
       "      <th></th>\n",
       "      <th>train_id</th>\n",
       "      <th>id_code</th>\n",
       "      <th>datetime</th>\n",
       "      <th>train_name</th>\n",
       "      <th>source</th>\n",
       "      <th>destination</th>\n",
       "      <th>passenger_demand</th>\n",
       "      <th>name_source</th>\n",
       "      <th>country_code_source</th>\n",
       "      <th>latitude_source</th>\n",
       "      <th>...</th>\n",
       "      <th>country_code_destination</th>\n",
       "      <th>latitude_destination</th>\n",
       "      <th>longitude_destination</th>\n",
       "      <th>mean_halt_times_destination</th>\n",
       "      <th>id_destination</th>\n",
       "      <th>distance_between_stations</th>\n",
       "      <th>day</th>\n",
       "      <th>is_weekend</th>\n",
       "      <th>hours</th>\n",
       "      <th>minutes</th>\n",
       "    </tr>\n",
       "  </thead>\n",
       "  <tbody>\n",
       "    <tr>\n",
       "      <td>0</td>\n",
       "      <td>0</td>\n",
       "      <td>isfywypmkqqhyft</td>\n",
       "      <td>2016-07-27 20:05:51</td>\n",
       "      <td>ICZVZS</td>\n",
       "      <td>147</td>\n",
       "      <td>1</td>\n",
       "      <td>high</td>\n",
       "      <td>station$147</td>\n",
       "      <td>3</td>\n",
       "      <td>4.356801</td>\n",
       "      <td>...</td>\n",
       "      <td>3</td>\n",
       "      <td>4.356801</td>\n",
       "      <td>50.845658</td>\n",
       "      <td>634.164740</td>\n",
       "      <td>147</td>\n",
       "      <td>0.0</td>\n",
       "      <td>2</td>\n",
       "      <td>0</td>\n",
       "      <td>20</td>\n",
       "      <td>5</td>\n",
       "    </tr>\n",
       "    <tr>\n",
       "      <td>1</td>\n",
       "      <td>1</td>\n",
       "      <td>mqsfxyvuqpbwomk</td>\n",
       "      <td>2016-07-27 20:06:11</td>\n",
       "      <td>ICZVZS</td>\n",
       "      <td>147</td>\n",
       "      <td>1</td>\n",
       "      <td>high</td>\n",
       "      <td>station$147</td>\n",
       "      <td>3</td>\n",
       "      <td>4.356801</td>\n",
       "      <td>...</td>\n",
       "      <td>3</td>\n",
       "      <td>4.356801</td>\n",
       "      <td>50.845658</td>\n",
       "      <td>634.164740</td>\n",
       "      <td>147</td>\n",
       "      <td>0.0</td>\n",
       "      <td>2</td>\n",
       "      <td>0</td>\n",
       "      <td>20</td>\n",
       "      <td>6</td>\n",
       "    </tr>\n",
       "    <tr>\n",
       "      <td>2</td>\n",
       "      <td>2</td>\n",
       "      <td>alspwwtbdvqsgby</td>\n",
       "      <td>2016-07-27 20:08:57</td>\n",
       "      <td>ICZVZS</td>\n",
       "      <td>147</td>\n",
       "      <td>1</td>\n",
       "      <td>high</td>\n",
       "      <td>station$147</td>\n",
       "      <td>3</td>\n",
       "      <td>4.356801</td>\n",
       "      <td>...</td>\n",
       "      <td>3</td>\n",
       "      <td>4.356801</td>\n",
       "      <td>50.845658</td>\n",
       "      <td>634.164740</td>\n",
       "      <td>147</td>\n",
       "      <td>0.0</td>\n",
       "      <td>2</td>\n",
       "      <td>0</td>\n",
       "      <td>20</td>\n",
       "      <td>8</td>\n",
       "    </tr>\n",
       "    <tr>\n",
       "      <td>3</td>\n",
       "      <td>3</td>\n",
       "      <td>szitxhhqduyrqpg</td>\n",
       "      <td>2016-07-27 20:09:08</td>\n",
       "      <td>ICZVZS</td>\n",
       "      <td>147</td>\n",
       "      <td>1</td>\n",
       "      <td>high</td>\n",
       "      <td>station$147</td>\n",
       "      <td>3</td>\n",
       "      <td>4.356801</td>\n",
       "      <td>...</td>\n",
       "      <td>3</td>\n",
       "      <td>4.356801</td>\n",
       "      <td>50.845658</td>\n",
       "      <td>634.164740</td>\n",
       "      <td>147</td>\n",
       "      <td>0.0</td>\n",
       "      <td>2</td>\n",
       "      <td>0</td>\n",
       "      <td>20</td>\n",
       "      <td>9</td>\n",
       "    </tr>\n",
       "    <tr>\n",
       "      <td>4</td>\n",
       "      <td>4</td>\n",
       "      <td>krisdqzczivvwcp</td>\n",
       "      <td>2016-07-27 20:11:01</td>\n",
       "      <td>ICZVZS</td>\n",
       "      <td>147</td>\n",
       "      <td>1</td>\n",
       "      <td>high</td>\n",
       "      <td>station$147</td>\n",
       "      <td>3</td>\n",
       "      <td>4.356801</td>\n",
       "      <td>...</td>\n",
       "      <td>3</td>\n",
       "      <td>4.356801</td>\n",
       "      <td>50.845658</td>\n",
       "      <td>634.164740</td>\n",
       "      <td>147</td>\n",
       "      <td>0.0</td>\n",
       "      <td>2</td>\n",
       "      <td>0</td>\n",
       "      <td>20</td>\n",
       "      <td>11</td>\n",
       "    </tr>\n",
       "    <tr>\n",
       "      <td>...</td>\n",
       "      <td>...</td>\n",
       "      <td>...</td>\n",
       "      <td>...</td>\n",
       "      <td>...</td>\n",
       "      <td>...</td>\n",
       "      <td>...</td>\n",
       "      <td>...</td>\n",
       "      <td>...</td>\n",
       "      <td>...</td>\n",
       "      <td>...</td>\n",
       "      <td>...</td>\n",
       "      <td>...</td>\n",
       "      <td>...</td>\n",
       "      <td>...</td>\n",
       "      <td>...</td>\n",
       "      <td>...</td>\n",
       "      <td>...</td>\n",
       "      <td>...</td>\n",
       "      <td>...</td>\n",
       "      <td>...</td>\n",
       "      <td>...</td>\n",
       "    </tr>\n",
       "    <tr>\n",
       "      <td>1279</td>\n",
       "      <td>1279</td>\n",
       "      <td>gfnxmbjcdyjdbeo</td>\n",
       "      <td>2016-10-05 15:12:10</td>\n",
       "      <td>ICZVZY</td>\n",
       "      <td>130</td>\n",
       "      <td>279</td>\n",
       "      <td>medium</td>\n",
       "      <td>station$130</td>\n",
       "      <td>3</td>\n",
       "      <td>4.360846</td>\n",
       "      <td>...</td>\n",
       "      <td>3</td>\n",
       "      <td>4.360846</td>\n",
       "      <td>50.859663</td>\n",
       "      <td>640.265896</td>\n",
       "      <td>130</td>\n",
       "      <td>0.0</td>\n",
       "      <td>2</td>\n",
       "      <td>0</td>\n",
       "      <td>15</td>\n",
       "      <td>12</td>\n",
       "    </tr>\n",
       "    <tr>\n",
       "      <td>1280</td>\n",
       "      <td>1280</td>\n",
       "      <td>mcfgyjeuatomuub</td>\n",
       "      <td>2016-10-05 18:14:27</td>\n",
       "      <td>ICWZZV</td>\n",
       "      <td>544</td>\n",
       "      <td>266</td>\n",
       "      <td>medium</td>\n",
       "      <td>station$544</td>\n",
       "      <td>3</td>\n",
       "      <td>3.710675</td>\n",
       "      <td>...</td>\n",
       "      <td>3</td>\n",
       "      <td>3.710675</td>\n",
       "      <td>51.035896</td>\n",
       "      <td>309.014451</td>\n",
       "      <td>544</td>\n",
       "      <td>0.0</td>\n",
       "      <td>2</td>\n",
       "      <td>0</td>\n",
       "      <td>18</td>\n",
       "      <td>14</td>\n",
       "    </tr>\n",
       "    <tr>\n",
       "      <td>1281</td>\n",
       "      <td>1281</td>\n",
       "      <td>rwhslfljqeapqhw</td>\n",
       "      <td>2016-10-05 18:23:44</td>\n",
       "      <td>SZZTSS</td>\n",
       "      <td>147</td>\n",
       "      <td>159</td>\n",
       "      <td>high</td>\n",
       "      <td>station$147</td>\n",
       "      <td>3</td>\n",
       "      <td>4.356801</td>\n",
       "      <td>...</td>\n",
       "      <td>3</td>\n",
       "      <td>4.356801</td>\n",
       "      <td>50.845658</td>\n",
       "      <td>634.164740</td>\n",
       "      <td>147</td>\n",
       "      <td>0.0</td>\n",
       "      <td>2</td>\n",
       "      <td>0</td>\n",
       "      <td>18</td>\n",
       "      <td>23</td>\n",
       "    </tr>\n",
       "    <tr>\n",
       "      <td>1282</td>\n",
       "      <td>1282</td>\n",
       "      <td>xcseqqecaatslst</td>\n",
       "      <td>2016-10-05 18:27:34</td>\n",
       "      <td>ICYAXR</td>\n",
       "      <td>147</td>\n",
       "      <td>422</td>\n",
       "      <td>low</td>\n",
       "      <td>station$147</td>\n",
       "      <td>3</td>\n",
       "      <td>4.356801</td>\n",
       "      <td>...</td>\n",
       "      <td>3</td>\n",
       "      <td>4.356801</td>\n",
       "      <td>50.845658</td>\n",
       "      <td>634.164740</td>\n",
       "      <td>147</td>\n",
       "      <td>0.0</td>\n",
       "      <td>2</td>\n",
       "      <td>0</td>\n",
       "      <td>18</td>\n",
       "      <td>27</td>\n",
       "    </tr>\n",
       "    <tr>\n",
       "      <td>1283</td>\n",
       "      <td>1283</td>\n",
       "      <td>hfhwirltuffenfr</td>\n",
       "      <td>2016-10-05 21:30:31</td>\n",
       "      <td>ICWYYA</td>\n",
       "      <td>200</td>\n",
       "      <td>185</td>\n",
       "      <td>high</td>\n",
       "      <td>station$200</td>\n",
       "      <td>3</td>\n",
       "      <td>4.560614</td>\n",
       "      <td>...</td>\n",
       "      <td>3</td>\n",
       "      <td>4.560614</td>\n",
       "      <td>51.135758</td>\n",
       "      <td>154.413295</td>\n",
       "      <td>200</td>\n",
       "      <td>0.0</td>\n",
       "      <td>2</td>\n",
       "      <td>0</td>\n",
       "      <td>21</td>\n",
       "      <td>30</td>\n",
       "    </tr>\n",
       "  </tbody>\n",
       "</table>\n",
       "<p>1284 rows × 24 columns</p>\n",
       "</div>"
      ],
      "text/plain": [
       "      train_id          id_code            datetime train_name  source  \\\n",
       "0            0  isfywypmkqqhyft 2016-07-27 20:05:51     ICZVZS     147   \n",
       "1            1  mqsfxyvuqpbwomk 2016-07-27 20:06:11     ICZVZS     147   \n",
       "2            2  alspwwtbdvqsgby 2016-07-27 20:08:57     ICZVZS     147   \n",
       "3            3  szitxhhqduyrqpg 2016-07-27 20:09:08     ICZVZS     147   \n",
       "4            4  krisdqzczivvwcp 2016-07-27 20:11:01     ICZVZS     147   \n",
       "...        ...              ...                 ...        ...     ...   \n",
       "1279      1279  gfnxmbjcdyjdbeo 2016-10-05 15:12:10     ICZVZY     130   \n",
       "1280      1280  mcfgyjeuatomuub 2016-10-05 18:14:27     ICWZZV     544   \n",
       "1281      1281  rwhslfljqeapqhw 2016-10-05 18:23:44     SZZTSS     147   \n",
       "1282      1282  xcseqqecaatslst 2016-10-05 18:27:34     ICYAXR     147   \n",
       "1283      1283  hfhwirltuffenfr 2016-10-05 21:30:31     ICWYYA     200   \n",
       "\n",
       "      destination passenger_demand  name_source  country_code_source  \\\n",
       "0               1             high  station$147                    3   \n",
       "1               1             high  station$147                    3   \n",
       "2               1             high  station$147                    3   \n",
       "3               1             high  station$147                    3   \n",
       "4               1             high  station$147                    3   \n",
       "...           ...              ...          ...                  ...   \n",
       "1279          279           medium  station$130                    3   \n",
       "1280          266           medium  station$544                    3   \n",
       "1281          159             high  station$147                    3   \n",
       "1282          422              low  station$147                    3   \n",
       "1283          185             high  station$200                    3   \n",
       "\n",
       "      latitude_source  ...  country_code_destination  latitude_destination  \\\n",
       "0            4.356801  ...                         3              4.356801   \n",
       "1            4.356801  ...                         3              4.356801   \n",
       "2            4.356801  ...                         3              4.356801   \n",
       "3            4.356801  ...                         3              4.356801   \n",
       "4            4.356801  ...                         3              4.356801   \n",
       "...               ...  ...                       ...                   ...   \n",
       "1279         4.360846  ...                         3              4.360846   \n",
       "1280         3.710675  ...                         3              3.710675   \n",
       "1281         4.356801  ...                         3              4.356801   \n",
       "1282         4.356801  ...                         3              4.356801   \n",
       "1283         4.560614  ...                         3              4.560614   \n",
       "\n",
       "      longitude_destination mean_halt_times_destination  id_destination  \\\n",
       "0                 50.845658                  634.164740             147   \n",
       "1                 50.845658                  634.164740             147   \n",
       "2                 50.845658                  634.164740             147   \n",
       "3                 50.845658                  634.164740             147   \n",
       "4                 50.845658                  634.164740             147   \n",
       "...                     ...                         ...             ...   \n",
       "1279              50.859663                  640.265896             130   \n",
       "1280              51.035896                  309.014451             544   \n",
       "1281              50.845658                  634.164740             147   \n",
       "1282              50.845658                  634.164740             147   \n",
       "1283              51.135758                  154.413295             200   \n",
       "\n",
       "      distance_between_stations  day  is_weekend  hours  minutes  \n",
       "0                           0.0    2           0     20        5  \n",
       "1                           0.0    2           0     20        6  \n",
       "2                           0.0    2           0     20        8  \n",
       "3                           0.0    2           0     20        9  \n",
       "4                           0.0    2           0     20       11  \n",
       "...                         ...  ...         ...    ...      ...  \n",
       "1279                        0.0    2           0     15       12  \n",
       "1280                        0.0    2           0     18       14  \n",
       "1281                        0.0    2           0     18       23  \n",
       "1282                        0.0    2           0     18       27  \n",
       "1283                        0.0    2           0     21       30  \n",
       "\n",
       "[1284 rows x 24 columns]"
      ]
     },
     "execution_count": 19,
     "metadata": {},
     "output_type": "execute_result"
    }
   ],
   "source": [
    "train_data"
   ]
  },
  {
   "cell_type": "markdown",
   "metadata": {},
   "source": [
    "columns = train_data.columns\n",
    "train_columns = columns.drop(['id_code', 'target', 'current_date', 'current_time', 'current_year'])\n",
    "categoricals = ['source_name', 'destination_name', 'train_name', 'country_code_source', 'country_code_destination', 'current_week', \n",
    "                'current_day', 'is_weekend', 'season', 'hour', 'current_month', 'is_holiday']"
   ]
  },
  {
   "cell_type": "code",
   "execution_count": 20,
   "metadata": {},
   "outputs": [
    {
     "data": {
      "text/plain": [
       "train_id                       0\n",
       "id_code                        0\n",
       "datetime                       0\n",
       "train_name                     0\n",
       "source                         0\n",
       "destination                    0\n",
       "passenger_demand               0\n",
       "name_source                    0\n",
       "country_code_source            0\n",
       "latitude_source                0\n",
       "longitude_source               0\n",
       "mean_halt_times_source         0\n",
       "id_source                      0\n",
       "name_destination               0\n",
       "country_code_destination       0\n",
       "latitude_destination           0\n",
       "longitude_destination          0\n",
       "mean_halt_times_destination    0\n",
       "id_destination                 0\n",
       "distance_between_stations      0\n",
       "day                            0\n",
       "is_weekend                     0\n",
       "hours                          0\n",
       "minutes                        0\n",
       "dtype: int64"
      ]
     },
     "execution_count": 20,
     "metadata": {},
     "output_type": "execute_result"
    }
   ],
   "source": [
    "train_data.isna().sum()"
   ]
  },
  {
   "cell_type": "code",
   "execution_count": 21,
   "metadata": {},
   "outputs": [],
   "source": [
    "train_data['passenger_demand_high'] = np.where(train_data['passenger_demand']=='high', 1, 0)\n",
    "train_data['passenger_demand_medium'] = np.where(train_data['passenger_demand']=='medium', 1, 0)\n",
    "train_data['passenger_demand_low'] = np.where(train_data['passenger_demand']=='low', 1, 0)"
   ]
  },
  {
   "cell_type": "code",
   "execution_count": 22,
   "metadata": {
    "scrolled": true
   },
   "outputs": [
    {
     "name": "stderr",
     "output_type": "stream",
     "text": [
      "C:\\Users\\naoggu\\AppData\\Local\\Continuum\\anaconda3\\lib\\site-packages\\pandas\\plotting\\_matplotlib\\converter.py:103: FutureWarning: Using an implicitly registered datetime converter for a matplotlib plotting method. The converter was registered by pandas on import. Future versions of pandas will require you to explicitly register matplotlib converters.\n",
      "\n",
      "To register the converters:\n",
      "\t>>> from pandas.plotting import register_matplotlib_converters\n",
      "\t>>> register_matplotlib_converters()\n",
      "  warnings.warn(msg, FutureWarning)\n"
     ]
    },
    {
     "data": {
      "text/plain": [
       "<matplotlib.collections.PathCollection at 0x1c80bcf1788>"
      ]
     },
     "execution_count": 22,
     "metadata": {},
     "output_type": "execute_result"
    },
    {
     "data": {
      "image/png": "[encoded data removed]",
      "text/plain": [
       "<Figure size 1440x360 with 1 Axes>"
      ]
     },
     "metadata": {
      "needs_background": "light"
     },
     "output_type": "display_data"
    },
    {
     "data": {
      "image/png": "[encoded data removed]",
      "text/plain": [
       "<Figure size 1440x360 with 1 Axes>"
      ]
     },
     "metadata": {
      "needs_background": "light"
     },
     "output_type": "display_data"
    },
    {
     "data": {
      "image/png": "[encoded data removed]",
      "text/plain": [
       "<Figure size 1440x360 with 1 Axes>"
      ]
     },
     "metadata": {
      "needs_background": "light"
     },
     "output_type": "display_data"
    }
   ],
   "source": [
    "x_values = train_data.loc[train_data['passenger_demand']=='high', 'datetime']\n",
    "y_values = train_data.loc[train_data['passenger_demand']=='high', 'train_id']\n",
    "plt.figure(figsize=(20,5))\n",
    "#plt.yticks(range(48,53))\n",
    "#plt.xticks(range(-3,10))\n",
    "plt.scatter(x_values, y_values)\n",
    "x_values = train_data.loc[train_data['passenger_demand']=='medium', 'datetime']\n",
    "y_values = train_data.loc[train_data['passenger_demand']=='medium', 'train_id']\n",
    "plt.figure(figsize=(20,5))\n",
    "plt.scatter(x_values, y_values)\n",
    "x_values = train_data.loc[train_data['passenger_demand']=='low', 'datetime']\n",
    "y_values = train_data.loc[train_data['passenger_demand']=='low', 'train_id']\n",
    "plt.figure(figsize=(20,5))\n",
    "plt.scatter(x_values, y_values)"
   ]
  },
  {
   "cell_type": "code",
   "execution_count": 23,
   "metadata": {},
   "outputs": [
    {
     "data": {
      "text/html": [
       "<div>\n",
       "<style scoped>\n",
       "    .dataframe tbody tr th:only-of-type {\n",
       "        vertical-align: middle;\n",
       "    }\n",
       "\n",
       "    .dataframe tbody tr th {\n",
       "        vertical-align: top;\n",
       "    }\n",
       "\n",
       "    .dataframe thead th {\n",
       "        text-align: right;\n",
       "    }\n",
       "</style>\n",
       "<table border=\"1\" class=\"dataframe\">\n",
       "  <thead>\n",
       "    <tr style=\"text-align: right;\">\n",
       "      <th></th>\n",
       "      <th>train_high_prob</th>\n",
       "      <th>train_low_prob</th>\n",
       "      <th>train_medium_prob</th>\n",
       "    </tr>\n",
       "    <tr>\n",
       "      <th>train_name</th>\n",
       "      <th></th>\n",
       "      <th></th>\n",
       "      <th></th>\n",
       "    </tr>\n",
       "  </thead>\n",
       "  <tbody>\n",
       "    <tr>\n",
       "      <td>EURRZAS</td>\n",
       "      <td>0.0</td>\n",
       "      <td>1.000000</td>\n",
       "      <td>0.000000</td>\n",
       "    </tr>\n",
       "    <tr>\n",
       "      <td>ICRYVY</td>\n",
       "      <td>0.0</td>\n",
       "      <td>1.000000</td>\n",
       "      <td>0.000000</td>\n",
       "    </tr>\n",
       "    <tr>\n",
       "      <td>ICRYVZ</td>\n",
       "      <td>0.0</td>\n",
       "      <td>1.000000</td>\n",
       "      <td>0.000000</td>\n",
       "    </tr>\n",
       "    <tr>\n",
       "      <td>ICRYWA</td>\n",
       "      <td>1.0</td>\n",
       "      <td>0.000000</td>\n",
       "      <td>0.000000</td>\n",
       "    </tr>\n",
       "    <tr>\n",
       "      <td>ICRYZV</td>\n",
       "      <td>1.0</td>\n",
       "      <td>0.000000</td>\n",
       "      <td>0.000000</td>\n",
       "    </tr>\n",
       "    <tr>\n",
       "      <td>...</td>\n",
       "      <td>...</td>\n",
       "      <td>...</td>\n",
       "      <td>...</td>\n",
       "    </tr>\n",
       "    <tr>\n",
       "      <td>XUWA</td>\n",
       "      <td>0.4</td>\n",
       "      <td>0.400000</td>\n",
       "      <td>0.200000</td>\n",
       "    </tr>\n",
       "    <tr>\n",
       "      <td>XWZV</td>\n",
       "      <td>0.5</td>\n",
       "      <td>0.375000</td>\n",
       "      <td>0.125000</td>\n",
       "    </tr>\n",
       "    <tr>\n",
       "      <td>XXZV</td>\n",
       "      <td>0.0</td>\n",
       "      <td>0.000000</td>\n",
       "      <td>1.000000</td>\n",
       "    </tr>\n",
       "    <tr>\n",
       "      <td>YXXS</td>\n",
       "      <td>0.3</td>\n",
       "      <td>0.600000</td>\n",
       "      <td>0.100000</td>\n",
       "    </tr>\n",
       "    <tr>\n",
       "      <td>ZSYS</td>\n",
       "      <td>0.0</td>\n",
       "      <td>0.090909</td>\n",
       "      <td>0.909091</td>\n",
       "    </tr>\n",
       "  </tbody>\n",
       "</table>\n",
       "<p>560 rows × 3 columns</p>\n",
       "</div>"
      ],
      "text/plain": [
       "            train_high_prob  train_low_prob  train_medium_prob\n",
       "train_name                                                    \n",
       "EURRZAS                 0.0        1.000000           0.000000\n",
       "ICRYVY                  0.0        1.000000           0.000000\n",
       "ICRYVZ                  0.0        1.000000           0.000000\n",
       "ICRYWA                  1.0        0.000000           0.000000\n",
       "ICRYZV                  1.0        0.000000           0.000000\n",
       "...                     ...             ...                ...\n",
       "XUWA                    0.4        0.400000           0.200000\n",
       "XWZV                    0.5        0.375000           0.125000\n",
       "XXZV                    0.0        0.000000           1.000000\n",
       "YXXS                    0.3        0.600000           0.100000\n",
       "ZSYS                    0.0        0.090909           0.909091\n",
       "\n",
       "[560 rows x 3 columns]"
      ]
     },
     "execution_count": 23,
     "metadata": {},
     "output_type": "execute_result"
    }
   ],
   "source": [
    "trains_df = train_data.groupby(['train_name'])['passenger_demand_high', 'passenger_demand_medium', 'passenger_demand_low'].mean()\n",
    "trains_df.columns = ['train_high_prob', 'train_low_prob', 'train_medium_prob']\n",
    "trains_df"
   ]
  },
  {
   "cell_type": "code",
   "execution_count": 24,
   "metadata": {},
   "outputs": [
    {
     "name": "stdout",
     "output_type": "stream",
     "text": [
      "99 194 116\n",
      "[] []\n",
      "[] []\n",
      "[] []\n"
     ]
    }
   ],
   "source": [
    "def intersection(lst1, lst2): \n",
    "    lst3 = [value for value in lst1 if value in lst2] \n",
    "    return lst3 \n",
    "trains_low = trains_df[trains_df['train_low_prob']==1].index\n",
    "trains_medium = trains_df[trains_df['train_medium_prob']==1].index\n",
    "trains_high = trains_df[trains_df['train_high_prob']==1].index\n",
    "print(len(trains_low), len(trains_medium), len(trains_high))\n",
    "print(intersection(trains_low, trains_medium), intersection(trains_medium, trains_low))\n",
    "print(intersection(trains_medium, trains_high), intersection(trains_high, trains_medium))\n",
    "print(intersection(trains_high, trains_low), intersection(trains_low, trains_high))"
   ]
  },
  {
   "cell_type": "code",
   "execution_count": 25,
   "metadata": {},
   "outputs": [],
   "source": [
    "trains_df.reset_index(inplace=True)\n",
    "train_data = train_data.merge(trains_df, left_on='train_name', right_on = 'train_name', how='left')"
   ]
  },
  {
   "cell_type": "code",
   "execution_count": 26,
   "metadata": {},
   "outputs": [],
   "source": [
    "train_data['passenger_demand'] = np.where(train_data['passenger_demand']=='low', 0, \n",
    "                                          np.where(train_data['passenger_demand']=='medium', 1, 2))"
   ]
  },
  {
   "cell_type": "code",
   "execution_count": 27,
   "metadata": {
    "scrolled": true
   },
   "outputs": [
    {
     "data": {
      "text/html": [
       "<div>\n",
       "<style scoped>\n",
       "    .dataframe tbody tr th:only-of-type {\n",
       "        vertical-align: middle;\n",
       "    }\n",
       "\n",
       "    .dataframe tbody tr th {\n",
       "        vertical-align: top;\n",
       "    }\n",
       "\n",
       "    .dataframe thead th {\n",
       "        text-align: right;\n",
       "    }\n",
       "</style>\n",
       "<table border=\"1\" class=\"dataframe\">\n",
       "  <thead>\n",
       "    <tr style=\"text-align: right;\">\n",
       "      <th></th>\n",
       "      <th>train_id</th>\n",
       "      <th>id_code</th>\n",
       "      <th>datetime</th>\n",
       "      <th>train_name</th>\n",
       "      <th>source</th>\n",
       "      <th>destination</th>\n",
       "      <th>passenger_demand</th>\n",
       "      <th>name_source</th>\n",
       "      <th>country_code_source</th>\n",
       "      <th>latitude_source</th>\n",
       "      <th>...</th>\n",
       "      <th>day</th>\n",
       "      <th>is_weekend</th>\n",
       "      <th>hours</th>\n",
       "      <th>minutes</th>\n",
       "      <th>passenger_demand_high</th>\n",
       "      <th>passenger_demand_medium</th>\n",
       "      <th>passenger_demand_low</th>\n",
       "      <th>train_high_prob</th>\n",
       "      <th>train_low_prob</th>\n",
       "      <th>train_medium_prob</th>\n",
       "    </tr>\n",
       "  </thead>\n",
       "  <tbody>\n",
       "    <tr>\n",
       "      <td>0</td>\n",
       "      <td>0</td>\n",
       "      <td>isfywypmkqqhyft</td>\n",
       "      <td>2016-07-27 20:05:51</td>\n",
       "      <td>ICZVZS</td>\n",
       "      <td>147</td>\n",
       "      <td>1</td>\n",
       "      <td>2</td>\n",
       "      <td>station$147</td>\n",
       "      <td>3</td>\n",
       "      <td>4.356801</td>\n",
       "      <td>...</td>\n",
       "      <td>2</td>\n",
       "      <td>0</td>\n",
       "      <td>20</td>\n",
       "      <td>5</td>\n",
       "      <td>1</td>\n",
       "      <td>0</td>\n",
       "      <td>0</td>\n",
       "      <td>0.444444</td>\n",
       "      <td>0.138889</td>\n",
       "      <td>0.416667</td>\n",
       "    </tr>\n",
       "    <tr>\n",
       "      <td>1</td>\n",
       "      <td>1</td>\n",
       "      <td>mqsfxyvuqpbwomk</td>\n",
       "      <td>2016-07-27 20:06:11</td>\n",
       "      <td>ICZVZS</td>\n",
       "      <td>147</td>\n",
       "      <td>1</td>\n",
       "      <td>2</td>\n",
       "      <td>station$147</td>\n",
       "      <td>3</td>\n",
       "      <td>4.356801</td>\n",
       "      <td>...</td>\n",
       "      <td>2</td>\n",
       "      <td>0</td>\n",
       "      <td>20</td>\n",
       "      <td>6</td>\n",
       "      <td>1</td>\n",
       "      <td>0</td>\n",
       "      <td>0</td>\n",
       "      <td>0.444444</td>\n",
       "      <td>0.138889</td>\n",
       "      <td>0.416667</td>\n",
       "    </tr>\n",
       "    <tr>\n",
       "      <td>2</td>\n",
       "      <td>2</td>\n",
       "      <td>alspwwtbdvqsgby</td>\n",
       "      <td>2016-07-27 20:08:57</td>\n",
       "      <td>ICZVZS</td>\n",
       "      <td>147</td>\n",
       "      <td>1</td>\n",
       "      <td>2</td>\n",
       "      <td>station$147</td>\n",
       "      <td>3</td>\n",
       "      <td>4.356801</td>\n",
       "      <td>...</td>\n",
       "      <td>2</td>\n",
       "      <td>0</td>\n",
       "      <td>20</td>\n",
       "      <td>8</td>\n",
       "      <td>1</td>\n",
       "      <td>0</td>\n",
       "      <td>0</td>\n",
       "      <td>0.444444</td>\n",
       "      <td>0.138889</td>\n",
       "      <td>0.416667</td>\n",
       "    </tr>\n",
       "    <tr>\n",
       "      <td>3</td>\n",
       "      <td>3</td>\n",
       "      <td>szitxhhqduyrqpg</td>\n",
       "      <td>2016-07-27 20:09:08</td>\n",
       "      <td>ICZVZS</td>\n",
       "      <td>147</td>\n",
       "      <td>1</td>\n",
       "      <td>2</td>\n",
       "      <td>station$147</td>\n",
       "      <td>3</td>\n",
       "      <td>4.356801</td>\n",
       "      <td>...</td>\n",
       "      <td>2</td>\n",
       "      <td>0</td>\n",
       "      <td>20</td>\n",
       "      <td>9</td>\n",
       "      <td>1</td>\n",
       "      <td>0</td>\n",
       "      <td>0</td>\n",
       "      <td>0.444444</td>\n",
       "      <td>0.138889</td>\n",
       "      <td>0.416667</td>\n",
       "    </tr>\n",
       "    <tr>\n",
       "      <td>4</td>\n",
       "      <td>4</td>\n",
       "      <td>krisdqzczivvwcp</td>\n",
       "      <td>2016-07-27 20:11:01</td>\n",
       "      <td>ICZVZS</td>\n",
       "      <td>147</td>\n",
       "      <td>1</td>\n",
       "      <td>2</td>\n",
       "      <td>station$147</td>\n",
       "      <td>3</td>\n",
       "      <td>4.356801</td>\n",
       "      <td>...</td>\n",
       "      <td>2</td>\n",
       "      <td>0</td>\n",
       "      <td>20</td>\n",
       "      <td>11</td>\n",
       "      <td>1</td>\n",
       "      <td>0</td>\n",
       "      <td>0</td>\n",
       "      <td>0.444444</td>\n",
       "      <td>0.138889</td>\n",
       "      <td>0.416667</td>\n",
       "    </tr>\n",
       "    <tr>\n",
       "      <td>...</td>\n",
       "      <td>...</td>\n",
       "      <td>...</td>\n",
       "      <td>...</td>\n",
       "      <td>...</td>\n",
       "      <td>...</td>\n",
       "      <td>...</td>\n",
       "      <td>...</td>\n",
       "      <td>...</td>\n",
       "      <td>...</td>\n",
       "      <td>...</td>\n",
       "      <td>...</td>\n",
       "      <td>...</td>\n",
       "      <td>...</td>\n",
       "      <td>...</td>\n",
       "      <td>...</td>\n",
       "      <td>...</td>\n",
       "      <td>...</td>\n",
       "      <td>...</td>\n",
       "      <td>...</td>\n",
       "      <td>...</td>\n",
       "      <td>...</td>\n",
       "    </tr>\n",
       "    <tr>\n",
       "      <td>1279</td>\n",
       "      <td>1279</td>\n",
       "      <td>gfnxmbjcdyjdbeo</td>\n",
       "      <td>2016-10-05 15:12:10</td>\n",
       "      <td>ICZVZY</td>\n",
       "      <td>130</td>\n",
       "      <td>279</td>\n",
       "      <td>1</td>\n",
       "      <td>station$130</td>\n",
       "      <td>3</td>\n",
       "      <td>4.360846</td>\n",
       "      <td>...</td>\n",
       "      <td>2</td>\n",
       "      <td>0</td>\n",
       "      <td>15</td>\n",
       "      <td>12</td>\n",
       "      <td>0</td>\n",
       "      <td>1</td>\n",
       "      <td>0</td>\n",
       "      <td>0.000000</td>\n",
       "      <td>1.000000</td>\n",
       "      <td>0.000000</td>\n",
       "    </tr>\n",
       "    <tr>\n",
       "      <td>1280</td>\n",
       "      <td>1280</td>\n",
       "      <td>mcfgyjeuatomuub</td>\n",
       "      <td>2016-10-05 18:14:27</td>\n",
       "      <td>ICWZZV</td>\n",
       "      <td>544</td>\n",
       "      <td>266</td>\n",
       "      <td>1</td>\n",
       "      <td>station$544</td>\n",
       "      <td>3</td>\n",
       "      <td>3.710675</td>\n",
       "      <td>...</td>\n",
       "      <td>2</td>\n",
       "      <td>0</td>\n",
       "      <td>18</td>\n",
       "      <td>14</td>\n",
       "      <td>0</td>\n",
       "      <td>1</td>\n",
       "      <td>0</td>\n",
       "      <td>0.000000</td>\n",
       "      <td>1.000000</td>\n",
       "      <td>0.000000</td>\n",
       "    </tr>\n",
       "    <tr>\n",
       "      <td>1281</td>\n",
       "      <td>1281</td>\n",
       "      <td>rwhslfljqeapqhw</td>\n",
       "      <td>2016-10-05 18:23:44</td>\n",
       "      <td>SZZTSS</td>\n",
       "      <td>147</td>\n",
       "      <td>159</td>\n",
       "      <td>2</td>\n",
       "      <td>station$147</td>\n",
       "      <td>3</td>\n",
       "      <td>4.356801</td>\n",
       "      <td>...</td>\n",
       "      <td>2</td>\n",
       "      <td>0</td>\n",
       "      <td>18</td>\n",
       "      <td>23</td>\n",
       "      <td>1</td>\n",
       "      <td>0</td>\n",
       "      <td>0</td>\n",
       "      <td>1.000000</td>\n",
       "      <td>0.000000</td>\n",
       "      <td>0.000000</td>\n",
       "    </tr>\n",
       "    <tr>\n",
       "      <td>1282</td>\n",
       "      <td>1282</td>\n",
       "      <td>xcseqqecaatslst</td>\n",
       "      <td>2016-10-05 18:27:34</td>\n",
       "      <td>ICYAXR</td>\n",
       "      <td>147</td>\n",
       "      <td>422</td>\n",
       "      <td>0</td>\n",
       "      <td>station$147</td>\n",
       "      <td>3</td>\n",
       "      <td>4.356801</td>\n",
       "      <td>...</td>\n",
       "      <td>2</td>\n",
       "      <td>0</td>\n",
       "      <td>18</td>\n",
       "      <td>27</td>\n",
       "      <td>0</td>\n",
       "      <td>0</td>\n",
       "      <td>1</td>\n",
       "      <td>0.000000</td>\n",
       "      <td>0.333333</td>\n",
       "      <td>0.666667</td>\n",
       "    </tr>\n",
       "    <tr>\n",
       "      <td>1283</td>\n",
       "      <td>1283</td>\n",
       "      <td>hfhwirltuffenfr</td>\n",
       "      <td>2016-10-05 21:30:31</td>\n",
       "      <td>ICWYYA</td>\n",
       "      <td>200</td>\n",
       "      <td>185</td>\n",
       "      <td>2</td>\n",
       "      <td>station$200</td>\n",
       "      <td>3</td>\n",
       "      <td>4.560614</td>\n",
       "      <td>...</td>\n",
       "      <td>2</td>\n",
       "      <td>0</td>\n",
       "      <td>21</td>\n",
       "      <td>30</td>\n",
       "      <td>1</td>\n",
       "      <td>0</td>\n",
       "      <td>0</td>\n",
       "      <td>0.500000</td>\n",
       "      <td>0.000000</td>\n",
       "      <td>0.500000</td>\n",
       "    </tr>\n",
       "  </tbody>\n",
       "</table>\n",
       "<p>1284 rows × 30 columns</p>\n",
       "</div>"
      ],
      "text/plain": [
       "      train_id          id_code            datetime train_name  source  \\\n",
       "0            0  isfywypmkqqhyft 2016-07-27 20:05:51     ICZVZS     147   \n",
       "1            1  mqsfxyvuqpbwomk 2016-07-27 20:06:11     ICZVZS     147   \n",
       "2            2  alspwwtbdvqsgby 2016-07-27 20:08:57     ICZVZS     147   \n",
       "3            3  szitxhhqduyrqpg 2016-07-27 20:09:08     ICZVZS     147   \n",
       "4            4  krisdqzczivvwcp 2016-07-27 20:11:01     ICZVZS     147   \n",
       "...        ...              ...                 ...        ...     ...   \n",
       "1279      1279  gfnxmbjcdyjdbeo 2016-10-05 15:12:10     ICZVZY     130   \n",
       "1280      1280  mcfgyjeuatomuub 2016-10-05 18:14:27     ICWZZV     544   \n",
       "1281      1281  rwhslfljqeapqhw 2016-10-05 18:23:44     SZZTSS     147   \n",
       "1282      1282  xcseqqecaatslst 2016-10-05 18:27:34     ICYAXR     147   \n",
       "1283      1283  hfhwirltuffenfr 2016-10-05 21:30:31     ICWYYA     200   \n",
       "\n",
       "      destination  passenger_demand  name_source  country_code_source  \\\n",
       "0               1                 2  station$147                    3   \n",
       "1               1                 2  station$147                    3   \n",
       "2               1                 2  station$147                    3   \n",
       "3               1                 2  station$147                    3   \n",
       "4               1                 2  station$147                    3   \n",
       "...           ...               ...          ...                  ...   \n",
       "1279          279                 1  station$130                    3   \n",
       "1280          266                 1  station$544                    3   \n",
       "1281          159                 2  station$147                    3   \n",
       "1282          422                 0  station$147                    3   \n",
       "1283          185                 2  station$200                    3   \n",
       "\n",
       "      latitude_source  ...  day  is_weekend  hours minutes  \\\n",
       "0            4.356801  ...    2           0     20       5   \n",
       "1            4.356801  ...    2           0     20       6   \n",
       "2            4.356801  ...    2           0     20       8   \n",
       "3            4.356801  ...    2           0     20       9   \n",
       "4            4.356801  ...    2           0     20      11   \n",
       "...               ...  ...  ...         ...    ...     ...   \n",
       "1279         4.360846  ...    2           0     15      12   \n",
       "1280         3.710675  ...    2           0     18      14   \n",
       "1281         4.356801  ...    2           0     18      23   \n",
       "1282         4.356801  ...    2           0     18      27   \n",
       "1283         4.560614  ...    2           0     21      30   \n",
       "\n",
       "      passenger_demand_high  passenger_demand_medium  passenger_demand_low  \\\n",
       "0                         1                        0                     0   \n",
       "1                         1                        0                     0   \n",
       "2                         1                        0                     0   \n",
       "3                         1                        0                     0   \n",
       "4                         1                        0                     0   \n",
       "...                     ...                      ...                   ...   \n",
       "1279                      0                        1                     0   \n",
       "1280                      0                        1                     0   \n",
       "1281                      1                        0                     0   \n",
       "1282                      0                        0                     1   \n",
       "1283                      1                        0                     0   \n",
       "\n",
       "      train_high_prob  train_low_prob  train_medium_prob  \n",
       "0            0.444444        0.138889           0.416667  \n",
       "1            0.444444        0.138889           0.416667  \n",
       "2            0.444444        0.138889           0.416667  \n",
       "3            0.444444        0.138889           0.416667  \n",
       "4            0.444444        0.138889           0.416667  \n",
       "...               ...             ...                ...  \n",
       "1279         0.000000        1.000000           0.000000  \n",
       "1280         0.000000        1.000000           0.000000  \n",
       "1281         1.000000        0.000000           0.000000  \n",
       "1282         0.000000        0.333333           0.666667  \n",
       "1283         0.500000        0.000000           0.500000  \n",
       "\n",
       "[1284 rows x 30 columns]"
      ]
     },
     "execution_count": 27,
     "metadata": {},
     "output_type": "execute_result"
    }
   ],
   "source": [
    "train_data"
   ]
  },
  {
   "cell_type": "code",
   "execution_count": 28,
   "metadata": {},
   "outputs": [
    {
     "data": {
      "text/html": [
       "<div>\n",
       "<style scoped>\n",
       "    .dataframe tbody tr th:only-of-type {\n",
       "        vertical-align: middle;\n",
       "    }\n",
       "\n",
       "    .dataframe tbody tr th {\n",
       "        vertical-align: top;\n",
       "    }\n",
       "\n",
       "    .dataframe thead th {\n",
       "        text-align: right;\n",
       "    }\n",
       "</style>\n",
       "<table border=\"1\" class=\"dataframe\">\n",
       "  <thead>\n",
       "    <tr style=\"text-align: right;\">\n",
       "      <th></th>\n",
       "      <th></th>\n",
       "      <th>station_high_prob</th>\n",
       "      <th>station_low_prob</th>\n",
       "      <th>station_medium_prob</th>\n",
       "    </tr>\n",
       "    <tr>\n",
       "      <th>source</th>\n",
       "      <th>destination</th>\n",
       "      <th></th>\n",
       "      <th></th>\n",
       "      <th></th>\n",
       "    </tr>\n",
       "  </thead>\n",
       "  <tbody>\n",
       "    <tr>\n",
       "      <td>0</td>\n",
       "      <td>643</td>\n",
       "      <td>1.000000</td>\n",
       "      <td>0.0</td>\n",
       "      <td>0.000000</td>\n",
       "    </tr>\n",
       "    <tr>\n",
       "      <td>2</td>\n",
       "      <td>3</td>\n",
       "      <td>0.000000</td>\n",
       "      <td>1.0</td>\n",
       "      <td>0.000000</td>\n",
       "    </tr>\n",
       "    <tr>\n",
       "      <td>25</td>\n",
       "      <td>178</td>\n",
       "      <td>0.000000</td>\n",
       "      <td>0.0</td>\n",
       "      <td>1.000000</td>\n",
       "    </tr>\n",
       "    <tr>\n",
       "      <td>36</td>\n",
       "      <td>178</td>\n",
       "      <td>0.000000</td>\n",
       "      <td>1.0</td>\n",
       "      <td>0.000000</td>\n",
       "    </tr>\n",
       "    <tr>\n",
       "      <td>89</td>\n",
       "      <td>130</td>\n",
       "      <td>0.000000</td>\n",
       "      <td>0.2</td>\n",
       "      <td>0.800000</td>\n",
       "    </tr>\n",
       "    <tr>\n",
       "      <td>...</td>\n",
       "      <td>...</td>\n",
       "      <td>...</td>\n",
       "      <td>...</td>\n",
       "      <td>...</td>\n",
       "    </tr>\n",
       "    <tr>\n",
       "      <td rowspan=\"3\" valign=\"top\">643</td>\n",
       "      <td>549</td>\n",
       "      <td>0.666667</td>\n",
       "      <td>0.0</td>\n",
       "      <td>0.333333</td>\n",
       "    </tr>\n",
       "    <tr>\n",
       "      <td>632</td>\n",
       "      <td>0.000000</td>\n",
       "      <td>1.0</td>\n",
       "      <td>0.000000</td>\n",
       "    </tr>\n",
       "    <tr>\n",
       "      <td>644</td>\n",
       "      <td>0.000000</td>\n",
       "      <td>1.0</td>\n",
       "      <td>0.000000</td>\n",
       "    </tr>\n",
       "    <tr>\n",
       "      <td rowspan=\"2\" valign=\"top\">645</td>\n",
       "      <td>0</td>\n",
       "      <td>0.000000</td>\n",
       "      <td>1.0</td>\n",
       "      <td>0.000000</td>\n",
       "    </tr>\n",
       "    <tr>\n",
       "      <td>632</td>\n",
       "      <td>1.000000</td>\n",
       "      <td>0.0</td>\n",
       "      <td>0.000000</td>\n",
       "    </tr>\n",
       "  </tbody>\n",
       "</table>\n",
       "<p>590 rows × 3 columns</p>\n",
       "</div>"
      ],
      "text/plain": [
       "                    station_high_prob  station_low_prob  station_medium_prob\n",
       "source destination                                                          \n",
       "0      643                   1.000000               0.0             0.000000\n",
       "2      3                     0.000000               1.0             0.000000\n",
       "25     178                   0.000000               0.0             1.000000\n",
       "36     178                   0.000000               1.0             0.000000\n",
       "89     130                   0.000000               0.2             0.800000\n",
       "...                               ...               ...                  ...\n",
       "643    549                   0.666667               0.0             0.333333\n",
       "       632                   0.000000               1.0             0.000000\n",
       "       644                   0.000000               1.0             0.000000\n",
       "645    0                     0.000000               1.0             0.000000\n",
       "       632                   1.000000               0.0             0.000000\n",
       "\n",
       "[590 rows x 3 columns]"
      ]
     },
     "execution_count": 28,
     "metadata": {},
     "output_type": "execute_result"
    }
   ],
   "source": [
    "stations_df = train_data.groupby(['source', 'destination'])['passenger_demand_high', 'passenger_demand_medium', 'passenger_demand_low'].mean()\n",
    "stations_df.columns = ['station_high_prob', 'station_low_prob', 'station_medium_prob']\n",
    "stations_df"
   ]
  },
  {
   "cell_type": "code",
   "execution_count": 29,
   "metadata": {},
   "outputs": [
    {
     "name": "stdout",
     "output_type": "stream",
     "text": [
      "126 196 119\n",
      "[] []\n",
      "[] []\n",
      "[] []\n"
     ]
    }
   ],
   "source": [
    "stations_low = stations_df[stations_df['station_low_prob']==1].index\n",
    "stations_medium = stations_df[stations_df['station_medium_prob']==1].index\n",
    "stations_high = stations_df[stations_df['station_high_prob']==1].index\n",
    "print(len(stations_low), len(stations_medium), len(stations_high))\n",
    "print(intersection(stations_low, stations_medium), intersection(stations_medium, stations_low))\n",
    "print(intersection(stations_medium, stations_high), intersection(stations_high, stations_medium))\n",
    "print(intersection(stations_high, stations_low), intersection(stations_low, stations_high))"
   ]
  },
  {
   "cell_type": "code",
   "execution_count": 30,
   "metadata": {},
   "outputs": [],
   "source": [
    "#stations_df.reset_index(inplace=True)\n",
    "train_data = train_data.merge(stations_df, left_on=['source', 'destination'], right_on = ['source', 'destination'], how='left')"
   ]
  },
  {
   "cell_type": "code",
   "execution_count": 31,
   "metadata": {},
   "outputs": [
    {
     "data": {
      "text/plain": [
       "(199, 199)"
      ]
     },
     "execution_count": 31,
     "metadata": {},
     "output_type": "execute_result"
    }
   ],
   "source": [
    "len(intersection(train_data['train_name'].unique(), test_data['train_name'].unique())), len(intersection(test_data['train_name'].unique(), train_data['train_name'].unique()))"
   ]
  },
  {
   "cell_type": "code",
   "execution_count": 32,
   "metadata": {},
   "outputs": [
    {
     "data": {
      "text/plain": [
       "504"
      ]
     },
     "execution_count": 32,
     "metadata": {},
     "output_type": "execute_result"
    }
   ],
   "source": [
    "len(test_data['train_name'].unique())"
   ]
  },
  {
   "cell_type": "code",
   "execution_count": 33,
   "metadata": {},
   "outputs": [],
   "source": [
    "test_data['source_name'] = test_data['source_name'].apply(lambda x: station_dict[x])\n",
    "test_data['destination_name'] = test_data['destination_name'].apply(lambda x: station_dict[x])"
   ]
  },
  {
   "cell_type": "code",
   "execution_count": 34,
   "metadata": {},
   "outputs": [],
   "source": [
    "test_data = test_data.merge(trains_df, left_on='train_name', right_on='train_name', how='left')"
   ]
  },
  {
   "cell_type": "code",
   "execution_count": 35,
   "metadata": {},
   "outputs": [],
   "source": [
    "test_data = test_data.merge(stations_df, left_on=['source_name', 'destination_name'], right_on=['source', 'destination'], how='left')"
   ]
  },
  {
   "cell_type": "code",
   "execution_count": 36,
   "metadata": {},
   "outputs": [],
   "source": [
    "test_data[['station_high_prob', 'station_low_prob', 'station_medium_prob', 'train_high_prob', 'train_low_prob', 'train_medium_prob']] = test_data[['station_high_prob', 'station_low_prob', 'station_medium_prob', 'train_high_prob', 'train_low_prob', 'train_medium_prob']].fillna(0)"
   ]
  },
  {
   "cell_type": "code",
   "execution_count": 37,
   "metadata": {},
   "outputs": [],
   "source": [
    "test_data['day'] = test_data['datetime'].dt.day.astype(int)\n",
    "test_data['hours'] = test_data['datetime'].dt.hour.astype(int)\n",
    "test_data['minutes'] = test_data['datetime'].dt.minute.astype(int)\n",
    "test_data['is_weekend'] = (test_data['is_weekend']*1).astype(int)\n",
    "test_data['distance_between_stations'] = get_distance(test_data['latitude_source'].values, test_data['longitude_source'].values, \n",
    "                                                       test_data['latitude_destination'].values, test_data['longitude_destination'].values)"
   ]
  },
  {
   "cell_type": "code",
   "execution_count": 38,
   "metadata": {},
   "outputs": [],
   "source": [
    "X = train_data[[ 'train_high_prob', 'train_low_prob', 'train_medium_prob', 'station_high_prob', 'station_low_prob', 'station_medium_prob', 'hours','minutes', 'is_weekend', 'day', 'distance_between_stations']]\n",
    "Y = train_data['passenger_demand']\n",
    "from sklearn.model_selection import train_test_split\n",
    "x_train, x_test, y_train, y_test = train_test_split(X, Y, test_size = 0.4, stratify=Y)"
   ]
  },
  {
   "cell_type": "code",
   "execution_count": 39,
   "metadata": {},
   "outputs": [
    {
     "data": {
      "text/plain": [
       "DecisionTreeClassifier(class_weight=None, criterion='entropy', max_depth=8,\n",
       "                       max_features=None, max_leaf_nodes=8,\n",
       "                       min_impurity_decrease=0.0, min_impurity_split=None,\n",
       "                       min_samples_leaf=1, min_samples_split=2,\n",
       "                       min_weight_fraction_leaf=0.0, presort=False,\n",
       "                       random_state=None, splitter='random')"
      ]
     },
     "execution_count": 39,
     "metadata": {},
     "output_type": "execute_result"
    }
   ],
   "source": [
    "from sklearn.tree import DecisionTreeClassifier\n",
    "dt_clf = DecisionTreeClassifier(criterion='entropy', max_depth=8, max_leaf_nodes=8, splitter='random')\n",
    "dt_clf"
   ]
  },
  {
   "cell_type": "code",
   "execution_count": 40,
   "metadata": {},
   "outputs": [
    {
     "name": "stdout",
     "output_type": "stream",
     "text": [
      "0.8519480519480519\n",
      "0.8599221789883269\n"
     ]
    }
   ],
   "source": [
    "dt_clf.fit(x_train, y_train)\n",
    "print(dt_clf.score(x_train, y_train))\n",
    "print(dt_clf.score(x_test, y_test))"
   ]
  },
  {
   "cell_type": "code",
   "execution_count": 41,
   "metadata": {},
   "outputs": [
    {
     "name": "stdout",
     "output_type": "stream",
     "text": [
      "[[174   0   0]\n",
      " [ 27 126  15]\n",
      " [ 12  18 142]]\n",
      "0.8567129994641128\n"
     ]
    }
   ],
   "source": [
    "from sklearn.metrics import confusion_matrix, f1_score\n",
    "print(confusion_matrix(dt_clf.predict(x_test), y_test))\n",
    "print(f1_score(dt_clf.predict(x_test), y_test, average='macro'))"
   ]
  },
  {
   "cell_type": "code",
   "execution_count": 42,
   "metadata": {
    "scrolled": true
   },
   "outputs": [
    {
     "name": "stdout",
     "output_type": "stream",
     "text": [
      "0.987012987012987\n",
      "0.8793774319066148\n"
     ]
    },
    {
     "name": "stderr",
     "output_type": "stream",
     "text": [
      "C:\\Users\\naoggu\\AppData\\Local\\Continuum\\anaconda3\\lib\\site-packages\\sklearn\\ensemble\\forest.py:245: FutureWarning: The default value of n_estimators will change from 10 in version 0.20 to 100 in 0.22.\n",
      "  \"10 in version 0.20 to 100 in 0.22.\", FutureWarning)\n"
     ]
    }
   ],
   "source": [
    "from sklearn.ensemble import RandomForestClassifier\n",
    "rf_clf = RandomForestClassifier()\n",
    "rf_clf.fit(x_train, y_train)\n",
    "print(rf_clf.score(x_train, y_train))\n",
    "print(rf_clf.score(x_test, y_test))"
   ]
  },
  {
   "cell_type": "code",
   "execution_count": 43,
   "metadata": {
    "scrolled": true
   },
   "outputs": [
    {
     "name": "stdout",
     "output_type": "stream",
     "text": [
      "[[192   5   7]\n",
      " [ 13 128  18]\n",
      " [  8  11 132]]\n",
      "0.8742968849814067\n"
     ]
    }
   ],
   "source": [
    "print(confusion_matrix(rf_clf.predict(x_test), y_test))\n",
    "print(f1_score(rf_clf.predict(x_test), y_test, average='macro'))"
   ]
  },
  {
   "cell_type": "code",
   "execution_count": 44,
   "metadata": {
    "scrolled": true
   },
   "outputs": [
    {
     "data": {
      "text/plain": [
       "ExtraTreesClassifier(bootstrap=True, class_weight=None, criterion='entropy',\n",
       "                     max_depth=7, max_features=None, max_leaf_nodes=7,\n",
       "                     min_impurity_decrease=0.0, min_impurity_split=None,\n",
       "                     min_samples_leaf=1, min_samples_split=2,\n",
       "                     min_weight_fraction_leaf=0.0, n_estimators=30, n_jobs=None,\n",
       "                     oob_score=False, random_state=None, verbose=0,\n",
       "                     warm_start=False)"
      ]
     },
     "execution_count": 44,
     "metadata": {},
     "output_type": "execute_result"
    }
   ],
   "source": [
    "from sklearn.ensemble import ExtraTreesClassifier\n",
    "et_clf = ExtraTreesClassifier(criterion='entropy', n_estimators=30, bootstrap=True, max_features=None, max_depth=7, max_leaf_nodes=7)\n",
    "et_clf"
   ]
  },
  {
   "cell_type": "code",
   "execution_count": 45,
   "metadata": {},
   "outputs": [
    {
     "name": "stdout",
     "output_type": "stream",
     "text": [
      "0.8818181818181818\n",
      "0.8891050583657587\n"
     ]
    }
   ],
   "source": [
    "et_clf.fit(x_train, y_train)\n",
    "print(et_clf.score(x_train, y_train))\n",
    "print(et_clf.score(x_test, y_test))"
   ]
  },
  {
   "cell_type": "code",
   "execution_count": 46,
   "metadata": {},
   "outputs": [
    {
     "name": "stdout",
     "output_type": "stream",
     "text": [
      "[[189   5   7]\n",
      " [ 16 125   7]\n",
      " [  8  14 143]]\n",
      "0.8858022065288296\n"
     ]
    }
   ],
   "source": [
    "print(confusion_matrix(et_clf.predict(x_test), y_test))\n",
    "print(f1_score(et_clf.predict(x_test), y_test, average='macro'))"
   ]
  },
  {
   "cell_type": "code",
   "execution_count": 47,
   "metadata": {},
   "outputs": [],
   "source": [
    "test_pred = dt_clf.predict(x_test)\n",
    "test_pred = np.vstack((test_pred, rf_clf.predict(x_test)))\n",
    "test_pred = np.vstack((test_pred, et_clf.predict(x_test)))\n",
    "test_pred = test_pred.T"
   ]
  },
  {
   "cell_type": "code",
   "execution_count": 48,
   "metadata": {},
   "outputs": [],
   "source": [
    "result=[]\n",
    "for row in range(len(test_pred)):\n",
    "    low=0\n",
    "    high=0\n",
    "    medium=0\n",
    "    if test_pred[row][0]==0:\n",
    "        high+=1\n",
    "    elif test_pred[row][0]==1:\n",
    "        medium+=1\n",
    "    else:\n",
    "        low+=1\n",
    "    if test_pred[row][0]==0:\n",
    "        high+=1\n",
    "    elif test_pred[row][0]==1:\n",
    "        medium+=1\n",
    "    else:\n",
    "        low+=1\n",
    "    if test_pred[row][0]==0:\n",
    "        high+=1\n",
    "    elif test_pred[row][0]==1:\n",
    "        medium+=1\n",
    "    else:\n",
    "        low+=1\n",
    "    if low>high and low>medium:\n",
    "        res = 2\n",
    "    elif high>low and high>medium:\n",
    "        res=0\n",
    "    else:\n",
    "        res=1\n",
    "    result.append(res)"
   ]
  },
  {
   "cell_type": "code",
   "execution_count": 49,
   "metadata": {},
   "outputs": [
    {
     "name": "stdout",
     "output_type": "stream",
     "text": [
      "0.8567129994641128\n"
     ]
    }
   ],
   "source": [
    "print(f1_score(result, y_test, average='macro'))"
   ]
  },
  {
   "cell_type": "code",
   "execution_count": 50,
   "metadata": {},
   "outputs": [],
   "source": [
    "test_pred = dt_clf.predict(test_data[['train_high_prob', 'train_low_prob', 'train_medium_prob', 'station_high_prob', 'station_low_prob', 'station_medium_prob', 'hours','minutes', 'is_weekend', 'day', 'distance_between_stations']])\n",
    "test_pred = np.vstack((test_pred, rf_clf.predict(test_data[['train_high_prob', 'train_low_prob', 'train_medium_prob', 'station_high_prob', 'station_low_prob', 'station_medium_prob', 'hours','minutes', 'is_weekend', 'day', 'distance_between_stations']])))\n",
    "test_pred = np.vstack((test_pred, et_clf.predict(test_data[['train_high_prob', 'train_low_prob', 'train_medium_prob', 'station_high_prob', 'station_low_prob', 'station_medium_prob', 'hours','minutes', 'is_weekend', 'day', 'distance_between_stations']])))\n",
    "test_pred = test_pred.T"
   ]
  },
  {
   "cell_type": "code",
   "execution_count": 51,
   "metadata": {
    "scrolled": false
   },
   "outputs": [],
   "source": [
    "result=[]\n",
    "for row in range(len(test_pred)):\n",
    "    low=0\n",
    "    high=0\n",
    "    medium=0\n",
    "    if test_pred[row][0]==0:\n",
    "        high+=1\n",
    "    elif test_pred[row][0]==1:\n",
    "        medium+=1\n",
    "    else:\n",
    "        low+=1\n",
    "    if test_pred[row][0]==0:\n",
    "        high+=1\n",
    "    elif test_pred[row][0]==1:\n",
    "        medium+=1\n",
    "    else:\n",
    "        low+=1\n",
    "    if test_pred[row][0]==0:\n",
    "        high+=1\n",
    "    elif test_pred[row][0]==1:\n",
    "        medium+=1\n",
    "    else:\n",
    "        low+=1\n",
    "    if low>high and low>medium:\n",
    "        res = 2\n",
    "    elif high>low and high>medium:\n",
    "        res=0\n",
    "    else:\n",
    "        res=1\n",
    "    result.append(res)"
   ]
  },
  {
   "cell_type": "code",
   "execution_count": 52,
   "metadata": {},
   "outputs": [
    {
     "name": "stdout",
     "output_type": "stream",
     "text": [
      "(array([0, 1, 2]), array([158, 687, 119], dtype=int64))\n"
     ]
    }
   ],
   "source": [
    "result = np.array(result).astype(int)\n",
    "print(np.unique(result, return_counts=True))"
   ]
  },
  {
   "cell_type": "code",
   "execution_count": 53,
   "metadata": {},
   "outputs": [
    {
     "name": "stdout",
     "output_type": "stream",
     "text": [
      "(array(['high', 'low', 'medium'], dtype=object), array([119, 158, 687], dtype=int64))\n"
     ]
    }
   ],
   "source": [
    "submission = {}\n",
    "submission['id_code'] = test_data['id_code']\n",
    "submission['target'] = np.where(result==0, 'low', np.where(result==1, 'medium', 'high'))\n",
    "submission=pd.DataFrame(submission)\n",
    "print(np.unique(submission['target'], return_counts=True))\n",
    "submission.to_csv(r\"C:\\Users\\naoggu\\Downloads\\Hitachi Challenge\\DataSet/submission_v1.csv\", index=False)"
   ]
  },
  {
   "cell_type": "code",
   "execution_count": 54,
   "metadata": {},
   "outputs": [
    {
     "data": {
      "text/plain": [
       "array([0.16866427, 0.05420795, 0.4820091 , 0.0974553 , 0.10781042,\n",
       "       0.08985296, 0.        , 0.        , 0.        , 0.        ,\n",
       "       0.        ])"
      ]
     },
     "execution_count": 54,
     "metadata": {},
     "output_type": "execute_result"
    }
   ],
   "source": [
    "et_clf.feature_importances_"
   ]
  },
  {
   "cell_type": "code",
   "execution_count": 55,
   "metadata": {},
   "outputs": [
    {
     "data": {
      "text/plain": [
       "array([0.08583768, 0.        , 0.43583003, 0.2367426 , 0.10583909,\n",
       "       0.1357506 , 0.        , 0.        , 0.        , 0.        ,\n",
       "       0.        ])"
      ]
     },
     "execution_count": 55,
     "metadata": {},
     "output_type": "execute_result"
    }
   ],
   "source": [
    "dt_clf.feature_importances_"
   ]
  },
  {
   "cell_type": "code",
   "execution_count": 56,
   "metadata": {},
   "outputs": [
    {
     "data": {
      "text/plain": [
       "LogisticRegression(C=0.01, class_weight=None, dual=False, fit_intercept=True,\n",
       "                   intercept_scaling=1, l1_ratio=None, max_iter=1000,\n",
       "                   multi_class='multinomial', n_jobs=None, penalty='l2',\n",
       "                   random_state=None, solver='lbfgs', tol=0.0001, verbose=0,\n",
       "                   warm_start=False)"
      ]
     },
     "execution_count": 56,
     "metadata": {},
     "output_type": "execute_result"
    }
   ],
   "source": [
    "from sklearn.linear_model import LogisticRegression\n",
    "log_reg = LogisticRegression(C=0.01, multi_class='multinomial', solver='lbfgs', max_iter=1000)\n",
    "log_reg"
   ]
  },
  {
   "cell_type": "code",
   "execution_count": 57,
   "metadata": {},
   "outputs": [
    {
     "name": "stdout",
     "output_type": "stream",
     "text": [
      "0.8727272727272727\n",
      "0.8793774319066148\n"
     ]
    }
   ],
   "source": [
    "log_reg.fit(x_train, y_train)\n",
    "print(log_reg.score(x_train, y_train))\n",
    "print(log_reg.score(x_test, y_test))"
   ]
  },
  {
   "cell_type": "code",
   "execution_count": 58,
   "metadata": {},
   "outputs": [
    {
     "name": "stdout",
     "output_type": "stream",
     "text": [
      "[[199  18  13]\n",
      " [  8 116   7]\n",
      " [  6  10 137]]\n",
      "0.8753090653127064\n"
     ]
    }
   ],
   "source": [
    "print(confusion_matrix(log_reg.predict(x_test), y_test))\n",
    "print(f1_score(log_reg.predict(x_test), y_test, average='macro'))"
   ]
  },
  {
   "cell_type": "code",
   "execution_count": 59,
   "metadata": {},
   "outputs": [
    {
     "name": "stdout",
     "output_type": "stream",
     "text": [
      "(array(['high', 'low', 'medium'], dtype=object), array([198, 714,  52], dtype=int64))\n"
     ]
    }
   ],
   "source": [
    "#Only Logistic Regression\n",
    "test_pred = log_reg.predict(test_data[['train_high_prob', 'train_low_prob', 'train_medium_prob', 'station_high_prob', 'station_low_prob', 'station_medium_prob', 'hours','minutes', 'is_weekend', 'day', 'distance_between_stations']])\n",
    "submission['target']=np.where(test_pred==0, 'low', np.where(test_pred==1, 'medium', 'high'))\n",
    "print(np.unique(submission['target'], return_counts=True))\n",
    "submission.to_csv(r\"C:\\Users\\naoggu\\Downloads\\Hitachi Challenge\\DataSet/submission_v2.csv\", index=False)"
   ]
  },
  {
   "cell_type": "code",
   "execution_count": null,
   "metadata": {},
   "outputs": [],
   "source": []
  }
 ],
 "metadata": {
  "kernelspec": {
   "display_name": "Python 3",
   "language": "python",
   "name": "python3"
  },
  "language_info": {
   "codemirror_mode": {
    "name": "ipython",
    "version": 3
   },
   "file_extension": ".py",
   "mimetype": "text/x-python",
   "name": "python",
   "nbconvert_exporter": "python",
   "pygments_lexer": "ipython3",
   "version": "3.7.4"
  }
 },
 "nbformat": 4,
 "nbformat_minor": 2
}
