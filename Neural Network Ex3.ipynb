{
 "cells": [
  {
   "cell_type": "code",
   "execution_count": 1,
   "metadata": {},
   "outputs": [],
   "source": [
    "import numpy as np\n",
    "from scipy.io import loadmat\n",
    "import matplotlib.pyplot as plt"
   ]
  },
  {
   "cell_type": "code",
   "execution_count": 2,
   "metadata": {},
   "outputs": [
    {
     "name": "stdout",
     "output_type": "stream",
     "text": [
      "(5000, 400) (5000, 1)\n"
     ]
    },
    {
     "data": {
      "text/plain": [
       "(array([0, 1, 2, 3, 4, 5, 6, 7, 8, 9], dtype=uint8),\n",
       " array([500, 500, 500, 500, 500, 500, 500, 500, 500, 500], dtype=int64))"
      ]
     },
     "execution_count": 2,
     "metadata": {},
     "output_type": "execute_result"
    }
   ],
   "source": [
    "mat_data = loadmat(\"Data/ex3data1.mat\")\n",
    "data = mat_data['X']\n",
    "label = mat_data['y']\n",
    "print(data.shape, label.shape)\n",
    "label = np.where(label==10,0,label)\n",
    "np.unique(label, return_counts = True)"
   ]
  },
  {
   "cell_type": "code",
   "execution_count": 3,
   "metadata": {},
   "outputs": [
    {
     "name": "stdout",
     "output_type": "stream",
     "text": [
      "(array([0., 1., 2., 3., 4., 5., 6., 7., 8., 9.]), array([375, 375, 375, 375, 375, 375, 375, 375, 375, 375], dtype=int64))\n",
      "(array([0., 1., 2., 3., 4., 5., 6., 7., 8., 9.]), array([125, 125, 125, 125, 125, 125, 125, 125, 125, 125], dtype=int64))\n"
     ]
    }
   ],
   "source": [
    "new_data = np.hstack((label, data))\n",
    "np.random.shuffle(new_data)\n",
    "from sklearn.model_selection import train_test_split\n",
    "\n",
    "train_data, test_data = train_test_split(new_data, shuffle = True, stratify = new_data[:,0])\n",
    "\n",
    "train_y, train_x = train_data[:,0], train_data[:,1:]\n",
    "print(np.unique(train_y, return_counts = True))\n",
    "test_y, test_x = test_data[:,0], test_data[:,1:]\n",
    "print(np.unique(test_y, return_counts = True))\n",
    "m, n = train_x.shape[0], test_x.shape[0]"
   ]
  },
  {
   "cell_type": "code",
   "execution_count": 4,
   "metadata": {},
   "outputs": [],
   "source": [
    "def displayData(X, example_width=None, figsize=(10, 10)):\n",
    "    \"\"\"\n",
    "    Displays 2D data stored in X in a nice grid.\n",
    "    \"\"\"\n",
    "    # Compute rows, cols\n",
    "    if X.ndim == 2:\n",
    "        m, n = X.shape\n",
    "    elif X.ndim == 1:\n",
    "        n = X.size\n",
    "        m = 1\n",
    "        X = X[None]  # Promote to a 2 dimensional array\n",
    "    else:\n",
    "        raise IndexError('Input X should be 1 or 2 dimensional.')\n",
    "\n",
    "    example_width = example_width or int(np.round(np.sqrt(n)))\n",
    "    example_height = n / example_width\n",
    "\n",
    "    # Compute number of items to display\n",
    "    display_rows = int(np.floor(np.sqrt(m)))\n",
    "    display_cols = int(np.ceil(m / display_rows))\n",
    "\n",
    "    fig, ax_array = plt.subplots(display_rows, display_cols, figsize=figsize)\n",
    "    fig.subplots_adjust(wspace=0.025, hspace=0.025)\n",
    "\n",
    "    ax_array = [ax_array] if m == 1 else ax_array.ravel()\n",
    "\n",
    "    for i, ax in enumerate(ax_array):\n",
    "        # Display Image\n",
    "        h = ax.imshow(X[i].reshape(example_width, example_width, order='F'),\n",
    "                      cmap='Greys', extent=[0, 1, 0, 1])\n",
    "\n",
    "        ax.axis('off')"
   ]
  },
  {
   "cell_type": "code",
   "execution_count": 5,
   "metadata": {},
   "outputs": [
    {
     "name": "stdout",
     "output_type": "stream",
     "text": [
      "The Actual Value is :  0.0  Predicted value is :  0.0\n",
      "The Actual Value is :  3.0  Predicted value is :  3.0\n"
     ]
    },
    {
     "data": {
      "image/png": "[encoded data removed]",
      "text/plain": [
       "<Figure size 144x144 with 1 Axes>"
      ]
     },
     "metadata": {
      "needs_background": "light"
     },
     "output_type": "display_data"
    },
    {
     "data": {
      "image/png": "[encoded data removed]",
      "text/plain": [
       "<Figure size 144x144 with 1 Axes>"
      ]
     },
     "metadata": {
      "needs_background": "light"
     },
     "output_type": "display_data"
    }
   ],
   "source": [
    "def print_data(data, label, Actval, size, print_val, figsize):\n",
    "    for i in range(print_val):\n",
    "        ind = np.random.randint(size)\n",
    "        print(\"The Actual Value is : \", Actval[ind], \" Predicted value is : \",label[ind])\n",
    "        displayData(data[ind], figsize = figsize)\n",
    "    \n",
    "print_data(train_x, train_y, train_y, m, 2, (2,2))"
   ]
  },
  {
   "cell_type": "code",
   "execution_count": 6,
   "metadata": {},
   "outputs": [],
   "source": [
    "def one_hot_encode(data,categ):\n",
    "    new_label = []\n",
    "    for i in range(categ):\n",
    "        new_label.append(np.where(data!=i, 0, 1))\n",
    "    new_label = np.array(new_label).T\n",
    "    np.unique(new_label[0],return_counts=True)\n",
    "    return new_label"
   ]
  },
  {
   "cell_type": "code",
   "execution_count": 7,
   "metadata": {},
   "outputs": [
    {
     "name": "stdout",
     "output_type": "stream",
     "text": [
      "(3750, 10)\n",
      "(1250, 10)\n"
     ]
    }
   ],
   "source": [
    "train_y = one_hot_encode(train_y, 10)\n",
    "print(train_y.shape)\n",
    "test_y = one_hot_encode(test_y, 10)\n",
    "print(test_y.shape)"
   ]
  },
  {
   "cell_type": "code",
   "execution_count": 8,
   "metadata": {},
   "outputs": [
    {
     "name": "stderr",
     "output_type": "stream",
     "text": [
      "WARNING: Logging before flag parsing goes to stderr.\n",
      "W0924 10:42:40.290461  2268 deprecation.py:506] From C:\\Users\\naoggu\\Python\\lib\\site-packages\\tensorflow\\python\\ops\\init_ops.py:1251: calling VarianceScaling.__init__ (from tensorflow.python.ops.init_ops) with dtype is deprecated and will be removed in a future version.\n",
      "Instructions for updating:\n",
      "Call initializer instance with the dtype argument instead of passing it to the constructor\n"
     ]
    },
    {
     "name": "stdout",
     "output_type": "stream",
     "text": [
      "Train on 2512 samples, validate on 1238 samples\n",
      "Epoch 1/100\n",
      "2512/2512 [==============================] - 0s 93us/sample - loss: 1.8074 - acc: 0.4996 - val_loss: 1.2178 - val_acc: 0.7124\n",
      "Epoch 2/100\n",
      "2512/2512 [==============================] - 0s 25us/sample - loss: 0.8733 - acc: 0.7874 - val_loss: 0.6736 - val_acc: 0.8288\n",
      "Epoch 3/100\n",
      "2512/2512 [==============================] - 0s 26us/sample - loss: 0.5594 - acc: 0.8455 - val_loss: 0.5042 - val_acc: 0.8659\n",
      "Epoch 4/100\n",
      "2512/2512 [==============================] - 0s 25us/sample - loss: 0.4156 - acc: 0.8921 - val_loss: 0.4272 - val_acc: 0.8821\n",
      "Epoch 5/100\n",
      "2512/2512 [==============================] - 0s 25us/sample - loss: 0.3365 - acc: 0.9164 - val_loss: 0.3749 - val_acc: 0.8998\n",
      "Epoch 6/100\n",
      "2512/2512 [==============================] - 0s 25us/sample - loss: 0.2901 - acc: 0.9271 - val_loss: 0.3486 - val_acc: 0.9055\n",
      "Epoch 7/100\n",
      "2512/2512 [==============================] - 0s 25us/sample - loss: 0.2468 - acc: 0.9399 - val_loss: 0.3244 - val_acc: 0.9144\n",
      "Epoch 8/100\n",
      "2512/2512 [==============================] - 0s 24us/sample - loss: 0.2218 - acc: 0.9427 - val_loss: 0.3104 - val_acc: 0.9176\n",
      "Epoch 9/100\n",
      "2512/2512 [==============================] - 0s 26us/sample - loss: 0.1981 - acc: 0.9506 - val_loss: 0.3029 - val_acc: 0.9233\n",
      "Epoch 10/100\n",
      "2512/2512 [==============================] - 0s 25us/sample - loss: 0.1740 - acc: 0.9598 - val_loss: 0.2904 - val_acc: 0.9241\n",
      "Epoch 11/100\n",
      "2512/2512 [==============================] - 0s 25us/sample - loss: 0.1566 - acc: 0.9610 - val_loss: 0.2996 - val_acc: 0.9233\n",
      "Epoch 12/100\n",
      "2512/2512 [==============================] - 0s 25us/sample - loss: 0.1419 - acc: 0.9674 - val_loss: 0.2773 - val_acc: 0.9225\n",
      "Epoch 13/100\n",
      "2512/2512 [==============================] - 0s 25us/sample - loss: 0.1287 - acc: 0.9674 - val_loss: 0.2790 - val_acc: 0.9241\n",
      "Epoch 14/100\n",
      "2512/2512 [==============================] - 0s 25us/sample - loss: 0.1185 - acc: 0.9741 - val_loss: 0.2668 - val_acc: 0.9281\n",
      "Epoch 15/100\n",
      "2512/2512 [==============================] - 0s 25us/sample - loss: 0.1088 - acc: 0.9769 - val_loss: 0.2655 - val_acc: 0.9249\n",
      "Epoch 16/100\n",
      "2512/2512 [==============================] - 0s 28us/sample - loss: 0.0947 - acc: 0.9821 - val_loss: 0.2656 - val_acc: 0.9273\n",
      "Epoch 17/100\n",
      "2512/2512 [==============================] - 0s 25us/sample - loss: 0.0856 - acc: 0.9841 - val_loss: 0.2633 - val_acc: 0.9257\n",
      "Epoch 18/100\n",
      "2512/2512 [==============================] - 0s 25us/sample - loss: 0.0774 - acc: 0.9857 - val_loss: 0.2723 - val_acc: 0.9257\n",
      "Epoch 19/100\n",
      "2512/2512 [==============================] - 0s 25us/sample - loss: 0.0685 - acc: 0.9877 - val_loss: 0.2640 - val_acc: 0.9297\n",
      "Epoch 20/100\n",
      "2512/2512 [==============================] - 0s 25us/sample - loss: 0.0634 - acc: 0.9893 - val_loss: 0.2616 - val_acc: 0.9233\n",
      "Epoch 21/100\n",
      "2512/2512 [==============================] - 0s 25us/sample - loss: 0.0590 - acc: 0.9908 - val_loss: 0.2653 - val_acc: 0.9321\n",
      "Epoch 22/100\n",
      "2512/2512 [==============================] - 0s 24us/sample - loss: 0.0543 - acc: 0.9916 - val_loss: 0.2644 - val_acc: 0.9289\n",
      "Epoch 23/100\n",
      "2512/2512 [==============================] - 0s 30us/sample - loss: 0.0468 - acc: 0.9948 - val_loss: 0.2584 - val_acc: 0.9265\n",
      "Epoch 24/100\n",
      "2512/2512 [==============================] - 0s 25us/sample - loss: 0.0416 - acc: 0.9952 - val_loss: 0.2613 - val_acc: 0.9354\n",
      "Epoch 25/100\n",
      "2512/2512 [==============================] - 0s 25us/sample - loss: 0.0385 - acc: 0.9956 - val_loss: 0.2674 - val_acc: 0.9305\n",
      "Epoch 26/100\n",
      "2512/2512 [==============================] - 0s 25us/sample - loss: 0.0442 - acc: 0.9928 - val_loss: 0.2598 - val_acc: 0.9338\n",
      "Epoch 27/100\n",
      "2512/2512 [==============================] - 0s 25us/sample - loss: 0.0334 - acc: 0.9972 - val_loss: 0.2633 - val_acc: 0.9330\n",
      "Epoch 28/100\n",
      "2512/2512 [==============================] - 0s 25us/sample - loss: 0.0299 - acc: 0.9972 - val_loss: 0.2723 - val_acc: 0.9321\n",
      "Epoch 29/100\n",
      "2512/2512 [==============================] - 0s 25us/sample - loss: 0.0269 - acc: 0.9984 - val_loss: 0.2654 - val_acc: 0.9338\n",
      "Epoch 30/100\n",
      "2512/2512 [==============================] - 0s 24us/sample - loss: 0.0244 - acc: 0.9984 - val_loss: 0.2670 - val_acc: 0.9362\n",
      "Epoch 31/100\n",
      "2512/2512 [==============================] - 0s 25us/sample - loss: 0.0224 - acc: 0.9984 - val_loss: 0.2665 - val_acc: 0.9330\n",
      "Epoch 32/100\n",
      "2512/2512 [==============================] - 0s 25us/sample - loss: 0.0207 - acc: 0.9992 - val_loss: 0.2670 - val_acc: 0.9297\n",
      "Epoch 33/100\n",
      "2512/2512 [==============================] - 0s 26us/sample - loss: 0.0195 - acc: 0.9988 - val_loss: 0.2688 - val_acc: 0.9354\n",
      "Epoch 34/100\n",
      "2512/2512 [==============================] - 0s 25us/sample - loss: 0.0175 - acc: 1.0000 - val_loss: 0.2725 - val_acc: 0.9321\n",
      "Epoch 35/100\n",
      "2512/2512 [==============================] - 0s 25us/sample - loss: 0.0162 - acc: 1.0000 - val_loss: 0.2759 - val_acc: 0.9338\n",
      "Epoch 36/100\n",
      "2512/2512 [==============================] - 0s 26us/sample - loss: 0.0146 - acc: 0.9996 - val_loss: 0.2735 - val_acc: 0.9289\n",
      "Epoch 37/100\n",
      "2512/2512 [==============================] - 0s 25us/sample - loss: 0.0140 - acc: 1.0000 - val_loss: 0.2737 - val_acc: 0.9313\n",
      "Epoch 38/100\n",
      "2512/2512 [==============================] - 0s 25us/sample - loss: 0.0132 - acc: 1.0000 - val_loss: 0.2789 - val_acc: 0.9321\n",
      "Epoch 39/100\n",
      "2512/2512 [==============================] - 0s 26us/sample - loss: 0.0122 - acc: 1.0000 - val_loss: 0.2809 - val_acc: 0.9305\n",
      "Epoch 40/100\n",
      "2512/2512 [==============================] - 0s 25us/sample - loss: 0.0119 - acc: 1.0000 - val_loss: 0.2799 - val_acc: 0.9297\n",
      "Epoch 41/100\n",
      "2512/2512 [==============================] - 0s 26us/sample - loss: 0.0104 - acc: 1.0000 - val_loss: 0.2783 - val_acc: 0.9305\n",
      "Epoch 42/100\n",
      "2512/2512 [==============================] - 0s 25us/sample - loss: 0.0100 - acc: 1.0000 - val_loss: 0.2776 - val_acc: 0.9289\n",
      "Epoch 43/100\n",
      "2512/2512 [==============================] - 0s 25us/sample - loss: 0.0093 - acc: 1.0000 - val_loss: 0.2830 - val_acc: 0.9330\n",
      "Epoch 44/100\n",
      "2512/2512 [==============================] - 0s 25us/sample - loss: 0.0087 - acc: 1.0000 - val_loss: 0.2834 - val_acc: 0.9305\n",
      "Epoch 45/100\n",
      "2512/2512 [==============================] - 0s 25us/sample - loss: 0.0081 - acc: 1.0000 - val_loss: 0.2845 - val_acc: 0.9330\n",
      "Epoch 46/100\n",
      "2512/2512 [==============================] - 0s 26us/sample - loss: 0.0077 - acc: 1.0000 - val_loss: 0.2856 - val_acc: 0.9289\n",
      "Epoch 47/100\n",
      "2512/2512 [==============================] - 0s 25us/sample - loss: 0.0074 - acc: 1.0000 - val_loss: 0.2837 - val_acc: 0.9305\n",
      "Epoch 48/100\n",
      "2512/2512 [==============================] - 0s 26us/sample - loss: 0.0070 - acc: 1.0000 - val_loss: 0.2872 - val_acc: 0.9346\n",
      "Epoch 49/100\n",
      "2512/2512 [==============================] - 0s 27us/sample - loss: 0.0065 - acc: 1.0000 - val_loss: 0.2877 - val_acc: 0.9289\n",
      "Epoch 50/100\n",
      "2512/2512 [==============================] - 0s 26us/sample - loss: 0.0061 - acc: 1.0000 - val_loss: 0.2900 - val_acc: 0.9313\n",
      "Epoch 51/100\n",
      "2512/2512 [==============================] - 0s 25us/sample - loss: 0.0058 - acc: 1.0000 - val_loss: 0.2913 - val_acc: 0.9313\n",
      "Epoch 52/100\n",
      "2512/2512 [==============================] - 0s 25us/sample - loss: 0.0054 - acc: 1.0000 - val_loss: 0.2926 - val_acc: 0.9321\n",
      "Epoch 53/100\n",
      "2512/2512 [==============================] - 0s 25us/sample - loss: 0.0053 - acc: 1.0000 - val_loss: 0.2969 - val_acc: 0.9321\n",
      "Epoch 54/100\n",
      "2512/2512 [==============================] - 0s 25us/sample - loss: 0.0050 - acc: 1.0000 - val_loss: 0.2942 - val_acc: 0.9338\n",
      "Epoch 55/100\n",
      "2512/2512 [==============================] - 0s 25us/sample - loss: 0.0050 - acc: 1.0000 - val_loss: 0.2963 - val_acc: 0.9313\n",
      "Epoch 56/100\n",
      "2512/2512 [==============================] - 0s 25us/sample - loss: 0.0046 - acc: 1.0000 - val_loss: 0.2987 - val_acc: 0.9346\n",
      "Epoch 57/100\n",
      "2512/2512 [==============================] - 0s 25us/sample - loss: 0.0043 - acc: 1.0000 - val_loss: 0.2950 - val_acc: 0.9338\n",
      "Epoch 58/100\n",
      "2512/2512 [==============================] - 0s 25us/sample - loss: 0.0041 - acc: 1.0000 - val_loss: 0.2976 - val_acc: 0.9321\n",
      "Epoch 59/100\n"
     ]
    },
    {
     "name": "stdout",
     "output_type": "stream",
     "text": [
      "2512/2512 [==============================] - 0s 25us/sample - loss: 0.0039 - acc: 1.0000 - val_loss: 0.2992 - val_acc: 0.9330\n",
      "Epoch 60/100\n",
      "2512/2512 [==============================] - 0s 26us/sample - loss: 0.0038 - acc: 1.0000 - val_loss: 0.3004 - val_acc: 0.9313\n",
      "Epoch 61/100\n",
      "2512/2512 [==============================] - 0s 23us/sample - loss: 0.0036 - acc: 1.0000 - val_loss: 0.3018 - val_acc: 0.9321\n",
      "Epoch 62/100\n",
      "2512/2512 [==============================] - 0s 25us/sample - loss: 0.0035 - acc: 1.0000 - val_loss: 0.3085 - val_acc: 0.9305\n",
      "Epoch 63/100\n",
      "2512/2512 [==============================] - 0s 24us/sample - loss: 0.0035 - acc: 1.0000 - val_loss: 0.3045 - val_acc: 0.9330\n",
      "Epoch 64/100\n",
      "2512/2512 [==============================] - 0s 24us/sample - loss: 0.0032 - acc: 1.0000 - val_loss: 0.3039 - val_acc: 0.9305\n",
      "Epoch 65/100\n",
      "2512/2512 [==============================] - 0s 24us/sample - loss: 0.0031 - acc: 1.0000 - val_loss: 0.3065 - val_acc: 0.9313\n",
      "Epoch 66/100\n",
      "2512/2512 [==============================] - 0s 24us/sample - loss: 0.0030 - acc: 1.0000 - val_loss: 0.3086 - val_acc: 0.9297\n",
      "Epoch 67/100\n",
      "2512/2512 [==============================] - 0s 24us/sample - loss: 0.0029 - acc: 1.0000 - val_loss: 0.3071 - val_acc: 0.9321\n",
      "Epoch 68/100\n",
      "2512/2512 [==============================] - 0s 30us/sample - loss: 0.0027 - acc: 1.0000 - val_loss: 0.3099 - val_acc: 0.9305\n",
      "Epoch 69/100\n",
      "2512/2512 [==============================] - 0s 33us/sample - loss: 0.0026 - acc: 1.0000 - val_loss: 0.3092 - val_acc: 0.9305\n",
      "Epoch 70/100\n",
      "2512/2512 [==============================] - 0s 30us/sample - loss: 0.0025 - acc: 1.0000 - val_loss: 0.3110 - val_acc: 0.9321\n",
      "Epoch 71/100\n",
      "2512/2512 [==============================] - 0s 25us/sample - loss: 0.0025 - acc: 1.0000 - val_loss: 0.3108 - val_acc: 0.9321\n",
      "Epoch 72/100\n",
      "2512/2512 [==============================] - 0s 24us/sample - loss: 0.0023 - acc: 1.0000 - val_loss: 0.3124 - val_acc: 0.9313\n",
      "Epoch 73/100\n",
      "2512/2512 [==============================] - 0s 24us/sample - loss: 0.0022 - acc: 1.0000 - val_loss: 0.3150 - val_acc: 0.9305\n",
      "Epoch 74/100\n",
      "2512/2512 [==============================] - 0s 24us/sample - loss: 0.0022 - acc: 1.0000 - val_loss: 0.3150 - val_acc: 0.9338\n",
      "Epoch 75/100\n",
      "2512/2512 [==============================] - 0s 24us/sample - loss: 0.0021 - acc: 1.0000 - val_loss: 0.3173 - val_acc: 0.9313\n",
      "Epoch 76/100\n",
      "2512/2512 [==============================] - 0s 25us/sample - loss: 0.0020 - acc: 1.0000 - val_loss: 0.3178 - val_acc: 0.9330\n",
      "Epoch 77/100\n",
      "2512/2512 [==============================] - 0s 24us/sample - loss: 0.0019 - acc: 1.0000 - val_loss: 0.3178 - val_acc: 0.9321\n",
      "Epoch 78/100\n",
      "2512/2512 [==============================] - 0s 24us/sample - loss: 0.0019 - acc: 1.0000 - val_loss: 0.3185 - val_acc: 0.9321\n",
      "Epoch 79/100\n",
      "2512/2512 [==============================] - 0s 23us/sample - loss: 0.0018 - acc: 1.0000 - val_loss: 0.3204 - val_acc: 0.9305\n",
      "Epoch 80/100\n",
      "2512/2512 [==============================] - 0s 23us/sample - loss: 0.0018 - acc: 1.0000 - val_loss: 0.3213 - val_acc: 0.9313\n",
      "Epoch 81/100\n",
      "2512/2512 [==============================] - 0s 24us/sample - loss: 0.0017 - acc: 1.0000 - val_loss: 0.3226 - val_acc: 0.9313\n",
      "Epoch 82/100\n",
      "2512/2512 [==============================] - 0s 25us/sample - loss: 0.0016 - acc: 1.0000 - val_loss: 0.3227 - val_acc: 0.9321\n",
      "Epoch 83/100\n",
      "2512/2512 [==============================] - 0s 25us/sample - loss: 0.0016 - acc: 1.0000 - val_loss: 0.3227 - val_acc: 0.9321\n",
      "Epoch 84/100\n",
      "2512/2512 [==============================] - 0s 24us/sample - loss: 0.0015 - acc: 1.0000 - val_loss: 0.3251 - val_acc: 0.9321\n",
      "Epoch 85/100\n",
      "2512/2512 [==============================] - 0s 25us/sample - loss: 0.0015 - acc: 1.0000 - val_loss: 0.3250 - val_acc: 0.9330\n",
      "Epoch 86/100\n",
      "2512/2512 [==============================] - 0s 24us/sample - loss: 0.0015 - acc: 1.0000 - val_loss: 0.3256 - val_acc: 0.9330\n",
      "Epoch 87/100\n",
      "2512/2512 [==============================] - 0s 25us/sample - loss: 0.0014 - acc: 1.0000 - val_loss: 0.3274 - val_acc: 0.9313\n",
      "Epoch 88/100\n",
      "2512/2512 [==============================] - 0s 24us/sample - loss: 0.0014 - acc: 1.0000 - val_loss: 0.3287 - val_acc: 0.9346\n",
      "Epoch 89/100\n",
      "2512/2512 [==============================] - 0s 27us/sample - loss: 0.0013 - acc: 1.0000 - val_loss: 0.3278 - val_acc: 0.9321\n",
      "Epoch 90/100\n",
      "2512/2512 [==============================] - 0s 32us/sample - loss: 0.0013 - acc: 1.0000 - val_loss: 0.3290 - val_acc: 0.9330\n",
      "Epoch 91/100\n",
      "2512/2512 [==============================] - 0s 30us/sample - loss: 0.0013 - acc: 1.0000 - val_loss: 0.3322 - val_acc: 0.9313\n",
      "Epoch 92/100\n",
      "2512/2512 [==============================] - 0s 27us/sample - loss: 0.0012 - acc: 1.0000 - val_loss: 0.3309 - val_acc: 0.9321\n",
      "Epoch 93/100\n",
      "2512/2512 [==============================] - 0s 26us/sample - loss: 0.0012 - acc: 1.0000 - val_loss: 0.3334 - val_acc: 0.9321\n",
      "Epoch 94/100\n",
      "2512/2512 [==============================] - 0s 24us/sample - loss: 0.0011 - acc: 1.0000 - val_loss: 0.3318 - val_acc: 0.9313\n",
      "Epoch 95/100\n",
      "2512/2512 [==============================] - 0s 29us/sample - loss: 0.0011 - acc: 1.0000 - val_loss: 0.3336 - val_acc: 0.9330\n",
      "Epoch 96/100\n",
      "2512/2512 [==============================] - 0s 33us/sample - loss: 0.0011 - acc: 1.0000 - val_loss: 0.3331 - val_acc: 0.9321\n",
      "Epoch 97/100\n",
      "2512/2512 [==============================] - 0s 31us/sample - loss: 0.0011 - acc: 1.0000 - val_loss: 0.3346 - val_acc: 0.9313\n",
      "Epoch 98/100\n",
      "2512/2512 [==============================] - 0s 25us/sample - loss: 0.0010 - acc: 1.0000 - val_loss: 0.3357 - val_acc: 0.9330\n",
      "Epoch 99/100\n",
      "2512/2512 [==============================] - 0s 24us/sample - loss: 0.0010 - acc: 1.0000 - val_loss: 0.3370 - val_acc: 0.9313\n",
      "Epoch 100/100\n",
      "2512/2512 [==============================] - 0s 25us/sample - loss: 9.8583e-04 - acc: 1.0000 - val_loss: 0.3375 - val_acc: 0.9305\n"
     ]
    }
   ],
   "source": [
    "from tensorflow.keras.models import Sequential\n",
    "from tensorflow.keras import layers\n",
    "import tensorflow as tf\n",
    "\n",
    "model = Sequential()\n",
    "model.add(layers.Input(400))\n",
    "model.add(layers.Dense(128, activation = tf.nn.relu))\n",
    "model.add(layers.Dense(32, activation = tf.nn.relu))\n",
    "model.add(layers.Dense(10, activation = tf.nn.softmax))\n",
    "\n",
    "model.compile(optimizer = 'adam',\n",
    "             loss = 'categorical_crossentropy',\n",
    "             metrics = ['acc'])\n",
    "history = model.fit( train_x, train_y, validation_split=0.33, epochs=100, batch_size=100, shuffle = 1000)"
   ]
  },
  {
   "cell_type": "code",
   "execution_count": 12,
   "metadata": {},
   "outputs": [
    {
     "name": "stdout",
     "output_type": "stream",
     "text": [
      "        loss       acc  val_loss   val_acc\n",
      "10  0.156599  0.960987  0.299572  0.923263\n",
      "11  0.141925  0.967357  0.277349  0.922456\n",
      "12  0.128713  0.967357  0.279010  0.924071\n",
      "13  0.118498  0.974124  0.266777  0.928110\n",
      "14  0.108776  0.976911  0.265534  0.924879\n",
      "15  0.094683  0.982086  0.265616  0.927302\n",
      "16  0.085580  0.984076  0.263276  0.925687\n",
      "17  0.077449  0.985669  0.272276  0.925687\n",
      "18  0.068539  0.987659  0.263956  0.929725\n",
      "19  0.063432  0.989252  0.261589  0.923263\n",
      "The Actual Value is :  6  Predicted value is :  6\n",
      "The Actual Value is :  6  Predicted value is :  6\n",
      "The Actual Value is :  0  Predicted value is :  0\n",
      "The Actual Value is :  2  Predicted value is :  2\n",
      "The Actual Value is :  7  Predicted value is :  7\n"
     ]
    },
    {
     "data": {
      "image/png": "[encoded data removed]",
      "text/plain": [
       "<Figure size 144x144 with 1 Axes>"
      ]
     },
     "metadata": {
      "needs_background": "light"
     },
     "output_type": "display_data"
    },
    {
     "data": {
      "image/png": "[encoded data removed]",
      "text/plain": [
       "<Figure size 144x144 with 1 Axes>"
      ]
     },
     "metadata": {
      "needs_background": "light"
     },
     "output_type": "display_data"
    },
    {
     "data": {
      "image/png": "[encoded data removed]",
      "text/plain": [
       "<Figure size 144x144 with 1 Axes>"
      ]
     },
     "metadata": {
      "needs_background": "light"
     },
     "output_type": "display_data"
    },
    {
     "data": {
      "image/png": "[encoded data removed]",
      "text/plain": [
       "<Figure size 144x144 with 1 Axes>"
      ]
     },
     "metadata": {
      "needs_background": "light"
     },
     "output_type": "display_data"
    },
    {
     "data": {
      "image/png": "[encoded data removed]",
      "text/plain": [
       "<Figure size 144x144 with 1 Axes>"
      ]
     },
     "metadata": {
      "needs_background": "light"
     },
     "output_type": "display_data"
    }
   ],
   "source": [
    "import pandas as pd\n",
    "print(pd.DataFrame(history.history)[10:20])\n",
    "\n",
    "predictions = np.argmax(model.predict(test_x), axis = 1)\n",
    "print_data(test_x, predictions, np.argmax(test_y, axis = 1), n, 5, (2,2))"
   ]
  }
 ],
 "metadata": {
  "kernelspec": {
   "display_name": "Python 3",
   "language": "python",
   "name": "python3"
  },
  "language_info": {
   "codemirror_mode": {
    "name": "ipython",
    "version": 3
   },
   "file_extension": ".py",
   "mimetype": "text/x-python",
   "name": "python",
   "nbconvert_exporter": "python",
   "pygments_lexer": "ipython3",
   "version": "3.7.1"
  }
 },
 "nbformat": 4,
 "nbformat_minor": 2
}
