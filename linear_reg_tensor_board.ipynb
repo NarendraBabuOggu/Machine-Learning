{
 "cells": [
  {
   "cell_type": "markdown",
   "metadata": {},
   "source": [
    "#                                     Linear Regression Using Tensorflow"
   ]
  },
  {
   "cell_type": "markdown",
   "metadata": {},
   "source": [
    "### Importing the necessary packages"
   ]
  },
  {
   "cell_type": "code",
   "execution_count": 1,
   "metadata": {},
   "outputs": [],
   "source": [
    "import tensorflow as tf\n",
    "import numpy as np\n",
    "import pandas as pd"
   ]
  },
  {
   "cell_type": "code",
   "execution_count": 2,
   "metadata": {},
   "outputs": [],
   "source": [
    "logs_path = '/tmp/tensorflow_summary/logs'"
   ]
  },
  {
   "cell_type": "markdown",
   "metadata": {},
   "source": [
    "### Importing The data"
   ]
  },
  {
   "cell_type": "code",
   "execution_count": 3,
   "metadata": {},
   "outputs": [
    {
     "name": "stdout",
     "output_type": "stream",
     "text": [
      "Shape of data :  (2, 97)\n",
      "Input Sample :  [[1.     6.1101]\n",
      " [1.     5.5277]\n",
      " [1.     8.5186]\n",
      " [1.     7.0032]\n",
      " [1.     5.8598]]\n",
      "output Sample :  [[17.592 ]\n",
      " [ 9.1302]\n",
      " [13.662 ]\n",
      " [11.854 ]\n",
      " [ 6.8233]]\n"
     ]
    }
   ],
   "source": [
    "data = np.transpose(np.loadtxt(\"machine-learning-ex1\\ex1\\ex1data1.txt\", delimiter=','))\n",
    "print(\"Shape of data : \", data.shape)\n",
    "data_x = np.hstack((np.ones((97,1)), data[0].reshape(97,1)))\n",
    "data_y = data[1].reshape(97,1)\n",
    "print(\"Input Sample : \",data_x[:5])\n",
    "print(\"output Sample : \",data_y[:5])"
   ]
  },
  {
   "cell_type": "markdown",
   "metadata": {},
   "source": [
    "### Shuffling and Partitioning the data into train and test sets"
   ]
  },
  {
   "cell_type": "code",
   "execution_count": 4,
   "metadata": {},
   "outputs": [
    {
     "name": "stdout",
     "output_type": "stream",
     "text": [
      "No of Training Sample :  (77, 2)\n"
     ]
    }
   ],
   "source": [
    "order = np.random.permutation(len(data_x))\n",
    "portion = 20\n",
    "test_x = data_x[order[:portion]]\n",
    "test_y = data_y[order[:portion]]\n",
    "train_x = data_x[order[portion:]]\n",
    "train_y = data_y[order[portion:]]\n",
    "print(\"No of Training Sample : \", train_x.shape)"
   ]
  },
  {
   "cell_type": "markdown",
   "metadata": {},
   "source": [
    "### Defining the tensorflow graph. Here I am providing Different optimizers like Gradient Descent, Adam, RMSprop to work with and the weights can also be intialised randomly or to zeros or ones."
   ]
  },
  {
   "cell_type": "code",
   "execution_count": 5,
   "metadata": {},
   "outputs": [],
   "source": [
    "input_ = tf.placeholder(\"float64\",shape=(1,2), name='input')\n",
    "output = tf.placeholder(\"float64\",shape=(1,1), name='output')\n",
    "weights = tf.Variable(np.random.randn(2).reshape((2,1)), \"float64\", shape=(2,1), name='Weights')\n",
    "#weights = tf.Variable(np.ones((2,1)), \"float64\", shape=(2,1), name='Weights')\n",
    "lr = tf.constant(0.01,\"float64\", name='Learning_rate')\n",
    "with tf.name_scope('Model'):\n",
    "    y_pred = tf.matmul(input_, weights)\n",
    "with tf.name_scope('Loss'):\n",
    "    loss = tf.reduce_sum(abs(output-y_pred))\n",
    "with tf.name_scope('opt'):\n",
    "    #opt = tf.train.GradientDescentOptimizer(lr).minimize(loss)\n",
    "    opt = tf.train.AdamOptimizer(lr).minimize(loss)\n",
    "    #opt = tf.train.RMSPropOptimizer(lr).minimize(loss)"
   ]
  },
  {
   "cell_type": "markdown",
   "metadata": {},
   "source": [
    "### Running The tensorflow Graph"
   ]
  },
  {
   "cell_type": "code",
   "execution_count": 6,
   "metadata": {},
   "outputs": [
    {
     "name": "stderr",
     "output_type": "stream",
     "text": [
      "WARNING: Logging before flag parsing goes to stderr.\n",
      "W0910 19:29:31.480913  1356 meta_graph.py:449] Issue encountered when serializing trainable_variables.\n",
      "Type is unsupported, or the types of the items don't match field type in CollectionDef. Note this is a warning and probably safe to ignore.\n",
      "'float64' has type str, but expected one of: int, long, bool\n",
      "W0910 19:29:31.550556  1356 meta_graph.py:449] Issue encountered when serializing variables.\n",
      "Type is unsupported, or the types of the items don't match field type in CollectionDef. Note this is a warning and probably safe to ignore.\n",
      "'float64' has type str, but expected one of: int, long, bool\n"
     ]
    },
    {
     "name": "stdout",
     "output_type": "stream",
     "text": [
      "Loss at iteration  100  :  2.0803519640802106\n",
      "Loss at iteration  200  :  2.057230119794794\n",
      "Loss at iteration  300  :  2.0712491983151553\n",
      "Loss at iteration  400  :  2.0572968222416743\n",
      "Loss at iteration  500  :  2.0567506766384764\n",
      "Run the command line:\n",
      "--> tensorboard --logdir=/tmp/tensorflow_summary \n",
      "Then open http://0.0.0.0:6006/ into your web browser\n"
     ]
    }
   ],
   "source": [
    "init = tf.global_variables_initializer()\n",
    "with tf.Session() as sess:\n",
    "    sess.run(init)\n",
    "    i = 0\n",
    "    summary_writer = tf.summary.FileWriter(logs_path, graph=tf.get_default_graph())\n",
    "    weights_ = weights.eval()\n",
    "    while i<500:\n",
    "        res_loss = 0\n",
    "        for x,y in zip(train_x,train_y):\n",
    "            sess.run(opt,feed_dict = {input_:[x], output:[y]})\n",
    "            res_loss += loss.eval(feed_dict = {input_:[x], output:[y]})/train_x.shape[0]\n",
    "        i = i+1\n",
    "        if (i%100 == 0):\n",
    "                print(\"Loss at iteration \", i, \" : \", res_loss)\n",
    "        res_weights = weights.eval()\n",
    "        weights_ = res_weights\n",
    "    test_pred=[]\n",
    "    for x in zip(test_x):\n",
    "        test_pred.append((sess.run(y_pred,feed_dict = {input_:x})).reshape(1,))\n",
    "    final_weights = weights.eval()\n",
    "print(\"Run the command line:\\n\" \\\n",
    "          \"--> tensorboard --logdir=/tmp/tensorflow_summary \" \\\n",
    "          \"\\nThen open http://0.0.0.0:6006/ into your web browser\")"
   ]
  },
  {
   "cell_type": "code",
   "execution_count": 7,
   "metadata": {},
   "outputs": [
    {
     "name": "stdout",
     "output_type": "stream",
     "text": [
      "Average Loss on test data:  1.1470857485474872\n"
     ]
    }
   ],
   "source": [
    "print(\"Average Loss on test data: \",np.sum(test_y-test_pred)/test_y.shape[0])"
   ]
  },
  {
   "cell_type": "markdown",
   "metadata": {},
   "source": [
    "### Plotting The data"
   ]
  },
  {
   "cell_type": "code",
   "execution_count": 8,
   "metadata": {},
   "outputs": [
    {
     "data": {
      "text/plain": [
       "[<matplotlib.lines.Line2D at 0x2df533c04e0>]"
      ]
     },
     "execution_count": 8,
     "metadata": {},
     "output_type": "execute_result"
    },
    {
     "data": {
      "image/png": "[encoded data removed]",
      "text/plain": [
       "<Figure size 432x288 with 1 Axes>"
      ]
     },
     "metadata": {
      "needs_background": "light"
     },
     "output_type": "display_data"
    }
   ],
   "source": [
    "import matplotlib.pyplot as plt\n",
    "%matplotlib inline\n",
    "\n",
    "plt.scatter(train_x.T[1], train_y, c='r')\n",
    "plt.scatter(test_x.T[1], test_y, c='b')\n",
    "plt.plot(data[0].reshape(97,1), np.dot(data_x, final_weights), c='g')"
   ]
  }
 ],
 "metadata": {
  "kernelspec": {
   "display_name": "Python 3",
   "language": "python",
   "name": "python3"
  },
  "language_info": {
   "codemirror_mode": {
    "name": "ipython",
    "version": 3
   },
   "file_extension": ".py",
   "mimetype": "text/x-python",
   "name": "python",
   "nbconvert_exporter": "python",
   "pygments_lexer": "ipython3",
   "version": "3.7.1"
  }
 },
 "nbformat": 4,
 "nbformat_minor": 2
}
