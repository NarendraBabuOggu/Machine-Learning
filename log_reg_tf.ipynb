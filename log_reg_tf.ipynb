{
 "cells": [
  {
   "cell_type": "markdown",
   "metadata": {},
   "source": [
    "#                                    Logistic Regression Using Tensorflow"
   ]
  },
  {
   "cell_type": "markdown",
   "metadata": {},
   "source": [
    "### Importing the necessary packages"
   ]
  },
  {
   "cell_type": "code",
   "execution_count": 1,
   "metadata": {},
   "outputs": [],
   "source": [
    "import tensorflow as tf\n",
    "import numpy as np"
   ]
  },
  {
   "cell_type": "code",
   "execution_count": 2,
   "metadata": {},
   "outputs": [],
   "source": [
    "logs_path = '/tmp/tensorflow_summary/logs'\n",
    "num_iterations = 1200\n",
    "steps_per_print = 100\n",
    "tf.logging.set_verbosity(tf.logging.INFO)\n",
    "#np.random.seed(42)"
   ]
  },
  {
   "cell_type": "markdown",
   "metadata": {},
   "source": [
    "### Importing The data"
   ]
  },
  {
   "cell_type": "code",
   "execution_count": 3,
   "metadata": {},
   "outputs": [
    {
     "name": "stdout",
     "output_type": "stream",
     "text": [
      "Shape of data :  (3, 100)\n",
      "Input Sample :  [[1.         0.34683364 0.78916899]\n",
      " [1.         0.30338937 0.44396933]\n",
      " [1.         0.35909224 0.73735829]\n",
      " [1.         0.60286378 0.87295484]\n",
      " [1.         0.79169019 0.76205933]]\n",
      "output Sample :  [[0.]\n",
      " [0.]\n",
      " [0.]\n",
      " [1.]\n",
      " [1.]]\n"
     ]
    }
   ],
   "source": [
    "data = np.transpose(np.loadtxt(r\"C:\\Users\\naoggu\\Downloads\\machine-learning-programming-assignments-coursera-andrew-ng-master\\machine-learning-ex2\\ex2\\ex2data1.txt\", delimiter=','))\n",
    "print(\"Shape of data : \", data.shape)\n",
    "data_x = np.hstack((np.ones((data.shape[1],1)), \n",
    "                    (data[0]/np.max(data[0])).reshape(data.shape[1],1), \n",
    "                    (data[1]/np.max(data[1])).reshape(data.shape[1],1)))\n",
    "data_y = data[2].reshape(data.shape[1],1)\n",
    "print(\"Input Sample : \",data_x[:5])\n",
    "print(\"output Sample : \",data_y[:5])"
   ]
  },
  {
   "cell_type": "markdown",
   "metadata": {},
   "source": [
    "### Shuffling and Partitioning the data into train and test sets"
   ]
  },
  {
   "cell_type": "code",
   "execution_count": 4,
   "metadata": {},
   "outputs": [
    {
     "name": "stdout",
     "output_type": "stream",
     "text": [
      "No of Training Sample :  (70, 3)\n",
      "(array([0., 1.]), array([31, 39], dtype=int64))\n",
      "(array([0., 1.]), array([ 9, 21], dtype=int64))\n"
     ]
    }
   ],
   "source": [
    "order = np.random.permutation(len(data_x))\n",
    "portion = 30\n",
    "test_x = data_x[order[:portion]]\n",
    "test_y = data_y[order[:portion]]\n",
    "train_x = data_x[order[portion:]]\n",
    "train_y = data_y[order[portion:]]\n",
    "print(\"No of Training Sample : \", train_x.shape)\n",
    "print(np.unique(train_y, return_counts = True))\n",
    "print(np.unique(test_y, return_counts = True))"
   ]
  },
  {
   "cell_type": "code",
   "execution_count": 5,
   "metadata": {},
   "outputs": [
    {
     "name": "stdout",
     "output_type": "stream",
     "text": [
      "(3, 3)\n",
      "[[-1.6458864 ]\n",
      " [ 0.99580011]\n",
      " [ 2.68349819]]\n"
     ]
    }
   ],
   "source": [
    "rand_ind = np.random.choice(train_x.shape[0],train_x.shape[1])\n",
    "x = train_x[rand_ind]\n",
    "y = train_y[rand_ind]\n",
    "print(x.shape)\n",
    "w = np.array(np.dot(np.linalg.inv(x),y))\n",
    "print(w)"
   ]
  },
  {
   "cell_type": "markdown",
   "metadata": {},
   "source": [
    "### Defining the tensorflow graph."
   ]
  },
  {
   "cell_type": "code",
   "execution_count": 6,
   "metadata": {},
   "outputs": [],
   "source": [
    "input_ = tf.placeholder(\"float64\",shape=(1,data.shape[0]), name='input')\n",
    "output = tf.placeholder(\"float64\",shape=(1,1), name='output')\n",
    "weights = tf.get_variable(dtype = \"float64\", initializer = tf.truncated_normal_initializer(),shape=(data.shape[0],1), name='Weights')\n",
    "lr = tf.constant(0.01,\"float64\", name='Learning_rate')\n",
    "\n",
    "with tf.name_scope('Model'):\n",
    "    y_pred = tf.sigmoid(tf.matmul(input_, weights))\n",
    "with tf.name_scope('Loss'):\n",
    "    loss = -(output*tf.log(y_pred)+(1-output)*tf.log(1-y_pred))\n",
    "with tf.name_scope('opt'):\n",
    "    grad = y_pred-output\n",
    "with tf.name_scope('opt'):\n",
    "    fin_weights = weights - lr*tf.matmul(tf.transpose(input_), grad)\n"
   ]
  },
  {
   "cell_type": "markdown",
   "metadata": {},
   "source": [
    "### Running The tensorflow Graph"
   ]
  },
  {
   "cell_type": "code",
   "execution_count": 7,
   "metadata": {},
   "outputs": [
    {
     "name": "stdout",
     "output_type": "stream",
     "text": [
      "(3, 1)\n",
      "Loss at iteration  100  :  [[0.4603082]]\n",
      "Average Loss on test data:  [[0.41280269]]\n",
      "Loss at iteration  200  :  [[0.40767539]]\n",
      "Average Loss on test data:  [[0.36951692]]\n",
      "Loss at iteration  300  :  [[0.37437849]]\n",
      "Average Loss on test data:  [[0.33952714]]\n",
      "Loss at iteration  400  :  [[0.35106]]\n",
      "Average Loss on test data:  [[0.31729981]]\n",
      "Loss at iteration  500  :  [[0.33369165]]\n",
      "Average Loss on test data:  [[0.300125]]\n",
      "Loss at iteration  600  :  [[0.32020812]]\n",
      "Average Loss on test data:  [[0.28645373]]\n",
      "Loss at iteration  700  :  [[0.30941834]]\n",
      "Average Loss on test data:  [[0.27531584]]\n",
      "Loss at iteration  800  :  [[0.3005791]]\n",
      "Average Loss on test data:  [[0.26606812]]\n",
      "Loss at iteration  900  :  [[0.29319999]]\n",
      "Average Loss on test data:  [[0.25826693]]\n",
      "Loss at iteration  1000  :  [[0.28694353]]\n",
      "Average Loss on test data:  [[0.25159676]]\n",
      "Loss at iteration  1100  :  [[0.28156958]]\n",
      "Average Loss on test data:  [[0.24582748]]\n",
      "Loss at iteration  1200  :  [[0.27690245]]\n",
      "Average Loss on test data:  [[0.24078749]]\n",
      "Final Weights :  [[-10.85154454]\n",
      " [  9.13886173]\n",
      " [  8.14730218]]\n",
      "Run the command line:\n",
      "--> tensorboard --logdir=/tmp/tensorflow_summary \n",
      "Then open http://0.0.0.0:6006/ into your web browser\n"
     ]
    }
   ],
   "source": [
    "init = tf.global_variables_initializer()\n",
    "with tf.Session() as sess:\n",
    "    sess.run(init)\n",
    "    i = 0\n",
    "    summary_writer = tf.summary.FileWriter(logs_path, graph=tf.get_default_graph())\n",
    "    in_weights = w\n",
    "    #in_weights = weights.eval()\n",
    "    print(in_weights.shape)\n",
    "    test_loss = []\n",
    "    train_loss = []\n",
    "    while i<num_iterations:\n",
    "        res_train_loss = 0\n",
    "        res_test_loss = 0\n",
    "        for x,y in zip(train_x,train_y):\n",
    "            #print(\" Starting Iteration \",i,\" Sample \",x,\" Output \",y)\n",
    "            in_weights = sess.run(fin_weights,feed_dict = {input_:[x], output:[y], weights:in_weights})\n",
    "            #print(\" Progressing Iteration \",i,\" Sample \",x,\" Output \",y)\n",
    "            res_train_loss +=  loss.eval(feed_dict = {input_:[x], output:[y], weights:in_weights})/train_x.shape[0]\n",
    "            #print(\" Ending Iteration \",i,\" Sample \",x,\" Output \",y)\n",
    "        test_pred=[]\n",
    "        for x,y in zip(test_x,test_y):\n",
    "            test_pred.append(1 if( sess.run(y_pred, feed_dict = {input_:[x], weights:in_weights}) ).reshape(1,) > 0.5 else 0)\n",
    "            res_test_loss += loss.eval(feed_dict = {input_:[x], output:[y], weights:in_weights})/test_x.shape[0]\n",
    "        i = i+1\n",
    "        if (i%steps_per_print == 0):\n",
    "            print(\"Loss at iteration \", i, \" : \", res_train_loss)\n",
    "            print(\"Average Loss on test data: \",res_test_loss)\n",
    "        test_loss.append(res_test_loss)\n",
    "        train_loss.append(res_train_loss)\n",
    "    print(\"Final Weights : \", in_weights)\n",
    "    #final_weights = in_weights\n",
    "print(\"Run the command line:\\n\" \\\n",
    "          \"--> tensorboard --logdir=/tmp/tensorflow_summary \" \\\n",
    "          \"\\nThen open http://0.0.0.0:6006/ into your web browser\")"
   ]
  },
  {
   "cell_type": "markdown",
   "metadata": {},
   "source": [
    "### Metrics"
   ]
  },
  {
   "cell_type": "code",
   "execution_count": 10,
   "metadata": {
    "scrolled": true
   },
   "outputs": [
    {
     "name": "stdout",
     "output_type": "stream",
     "text": [
      "Average Loss on test data:  [[0.24078749]]\n",
      "True\tPositives\t:\t 19 \n",
      "False\tPositives\t:\t 2 \n",
      "False\tNegatives\t:\t 0 \n",
      "True\tNegatives\t:\t 9\n",
      "Accuracy (tp+tn)/(fp+fn+tp+tn) :  0.9333333333333333\n"
     ]
    }
   ],
   "source": [
    "print(\"Average Loss on test data: \",res_test_loss)\n",
    "tp = 0\n",
    "fp = 0\n",
    "tn = 0\n",
    "fn = 0\n",
    "for x,y in zip(test_pred, test_y):\n",
    "    #print(\"Predicted value : \", x, \"Actual value : \", y,\"Predicted Correctly\" if x==y else \"Predicted Wrongly\")\n",
    "    if y==1:\n",
    "        if x==y:\n",
    "            tp += 1\n",
    "        else:\n",
    "            fp += 1\n",
    "    else:\n",
    "        if x==y:\n",
    "            tn += 1\n",
    "        else:\n",
    "            fn += 1\n",
    "print(\"True\\tPositives\\t:\\t\",tp,\"\\nFalse\\tPositives\\t:\\t\",fp,\"\\nFalse\\tNegatives\\t:\\t\",fn,\"\\nTrue\\tNegatives\\t:\\t\",tn)\n",
    "print(\"Accuracy (tp+tn)/(fp+fn+tp+tn) : \",(tp+tn)/(fp+fn+tp+tn))\n",
    "    "
   ]
  },
  {
   "cell_type": "markdown",
   "metadata": {},
   "source": [
    "### Plotting Train and Test Loss"
   ]
  },
  {
   "cell_type": "code",
   "execution_count": 11,
   "metadata": {},
   "outputs": [
    {
     "name": "stdout",
     "output_type": "stream",
     "text": [
      "1200 1200\n"
     ]
    },
    {
     "data": {
      "text/plain": [
       "<matplotlib.legend.Legend at 0x1bfe77b4ef0>"
      ]
     },
     "execution_count": 11,
     "metadata": {},
     "output_type": "execute_result"
    },
    {
     "data": {
      "image/png": "[encoded data removed]",
      "text/plain": [
       "<Figure size 432x288 with 1 Axes>"
      ]
     },
     "metadata": {
      "needs_background": "light"
     },
     "output_type": "display_data"
    }
   ],
   "source": [
    "import matplotlib.pyplot as plt\n",
    "\n",
    "%matplotlib inline\n",
    "\n",
    "print(len(train_loss), len(test_loss))\n",
    "plt.plot(range(1,num_iterations+1,1),np.array(train_loss).reshape(num_iterations,1),c='r')\n",
    "#plt.legend([])\n",
    "plt.plot(range(1,num_iterations+1,1),np.array(test_loss).reshape(num_iterations,1),c='b')\n",
    "plt.legend(['Train Loss', 'Test Loss'])"
   ]
  }
 ],
 "metadata": {
  "kernelspec": {
   "display_name": "Python 3",
   "language": "python",
   "name": "python3"
  },
  "language_info": {
   "codemirror_mode": {
    "name": "ipython",
    "version": 3
   },
   "file_extension": ".py",
   "mimetype": "text/x-python",
   "name": "python",
   "nbconvert_exporter": "python",
   "pygments_lexer": "ipython3",
   "version": "3.7.1"
  }
 },
 "nbformat": 4,
 "nbformat_minor": 2
}
